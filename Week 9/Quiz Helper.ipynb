{
 "cells": [
  {
   "cell_type": "code",
   "execution_count": 9,
   "id": "40c64bd6-fcde-4a6b-b839-5d0f1a69d304",
   "metadata": {},
   "outputs": [
    {
     "name": "stdout",
     "output_type": "stream",
     "text": [
      "The approximate value of f prime at t = 1 is 1.6137230412383017 when delta_t = 5e-06\n"
     ]
    }
   ],
   "source": [
    "# computes average rate of change given a function f, input value t, and delta_t\n",
    "def get_approximation(f,t,delta_t):\n",
    "    numerator = f(t+delta_t)-f(t)\n",
    "    denominator = delta_t\n",
    "    return numerator/denominator\n",
    "\n",
    "# define the function you want to use\n",
    "my_func = lambda t: 2**(2-t)+t**3-2\n",
    "\n",
    "# define input value where getting derivative\n",
    "curr_t = 1#fill in code here, choose the input value\n",
    "\n",
    "#choose a delta_t\n",
    "delta_t = .000005#fill in code here, choose delta_t\n",
    "\n",
    "#get approximation\n",
    "approx = get_approximation(my_func,curr_t,delta_t)\n",
    "\n",
    "# print the result in a sentence\n",
    "print(\"The approximate value of f prime at t = {} is {} when delta_t = {}\".format(curr_t,approx,delta_t))\n",
    "\n"
   ]
  },
  {
   "cell_type": "code",
   "execution_count": null,
   "id": "fdea65ce-041b-4df8-9654-553a259ac17c",
   "metadata": {},
   "outputs": [],
   "source": []
  }
 ],
 "metadata": {
  "kernelspec": {
   "display_name": "Python 3 (ipykernel)",
   "language": "python",
   "name": "python3"
  },
  "language_info": {
   "codemirror_mode": {
    "name": "ipython",
    "version": 3
   },
   "file_extension": ".py",
   "mimetype": "text/x-python",
   "name": "python",
   "nbconvert_exporter": "python",
   "pygments_lexer": "ipython3",
   "version": "3.9.6"
  }
 },
 "nbformat": 4,
 "nbformat_minor": 5
}
