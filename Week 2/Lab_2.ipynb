{
 "cells": [
  {
   "cell_type": "markdown",
   "id": "e4e98662-c717-4088-b95a-d434f2ee0d2b",
   "metadata": {},
   "source": [
    "<div style=\"font-family: ui-sans-serif, system-ui, -apple-system, Segoe UI, Roboto, 'Helvetica Neue', Arial; padding: 20px; border-radius: 16px; box-shadow: 0 10px 25px rgba(0,0,0,.08); background: linear-gradient(135deg,#fff 0%, #f0f7ff 60%, #e8fff4 100%);\">\n",
    "  <h1 style=\"margin:0 0 8px; font-size: 2rem;\">\n",
    "    👋 Welcome to Math 105 Lab 2!\n",
    "  </h1>\n",
    "<div style=\"margin-top:16px; padding:12px 14px; border:1px dashed #94a3b8; border-radius:12px; background:#fff;\">\n",
    "    <strong>Today’s mission:</strong> More practice with functions, especially input and out.</div>\n",
    "\n",
    "  <div style=\"margin-top:14p"
   ]
  },
  {
   "cell_type": "markdown",
   "id": "b18cc816-c52b-4d42-ae43-840cc9f2aa51",
   "metadata": {},
   "source": [
    "Suppose Dr.~MBK leaves her cup of hot coffee ($150^\\circ$F) on the table and it start to cool down. At first it will cool down quickly, but as it approaches room temperature ($68^\\circ$F), the cooling will slow. This relationship can be modeled using the exponential decay formula:\n",
    "$$T(t) = T_{room} + (T_{initial} - T_{room}) \\cdot e^{-kt}.$$\n",
    "\n",
    "Here, $T_{room}$, $T_{initial}$ are parameters representing the room temperature and the initial coffee temperature respectively. The parameter $k$ is a positive number that determines the rate of cooling. We'll use $k = .05$.\n",
    "\n",
    "\n",
    "Use the graph below and the formula to answer the following questions.\n",
    "<ol>\n",
    "    <li>What is the input variable? Output variable? What is the name of the function we are using to describe the relationship?</li>\n",
    "    <li>Use the information from the scenario to write the formula with the given parameter values.</li>\n",
    "    <li>Fill in the blanks.\n",
    "        <ul>\n",
    "        <li>$T(0) = $    </li>\n",
    "        <li> $T(60) = $</li>\n",
    "        </ul>     \n",
    "    </li>\n",
    "    <li> Explain what is happening on the right side of the graph. Can you predict the value of $T(180) = $ ?</li>\n",
    "    <li>Is it possible to find an input value that makes this equation, $T(?) = 0$, true? </li>\n",
    "</ol>"
   ]
  },
  {
   "cell_type": "code",
   "execution_count": 7,
   "id": "ee9fc675-9e03-4c00-8c3c-e3ff278359c4",
   "metadata": {},
   "outputs": [
    {
     "ename": "NameError",
     "evalue": "name 'time' is not defined",
     "output_type": "error",
     "traceback": [
      "\u001b[0;31m---------------------------------------------------------------------------\u001b[0m",
      "\u001b[0;31mNameError\u001b[0m                                 Traceback (most recent call last)",
      "Cell \u001b[0;32mIn[7], line 12\u001b[0m\n\u001b[1;32m      7\u001b[0m \u001b[38;5;66;03m#Once the function is defined, we can call it to evaluate different inputs\u001b[39;00m\n\u001b[1;32m      8\u001b[0m \n\u001b[1;32m      9\u001b[0m \u001b[38;5;66;03m#This is how we call the function:\u001b[39;00m\n\u001b[1;32m     10\u001b[0m \u001b[38;5;66;03m#coffee_temp = coffee_temp_func(time,t_room,t_initial,k)\u001b[39;00m\n\u001b[1;32m     11\u001b[0m coffee_temp \u001b[38;5;241m=\u001b[39m coffee_temp_func(\u001b[38;5;241m0\u001b[39m,\u001b[38;5;241m68\u001b[39m,\u001b[38;5;241m150\u001b[39m,\u001b[38;5;241m.05\u001b[39m)\n\u001b[0;32m---> 12\u001b[0m \u001b[38;5;28mprint\u001b[39m(\u001b[38;5;124m\"\u001b[39m\u001b[38;5;132;01m{}\u001b[39;00m\u001b[38;5;124m minutes after MBK sets down her coffee cup, the temperature is \u001b[39m\u001b[38;5;132;01m{}\u001b[39;00m\u001b[38;5;124m\"\u001b[39m\u001b[38;5;241m.\u001b[39mformat(\u001b[43mtime\u001b[49m,coffee_temp))\n",
      "\u001b[0;31mNameError\u001b[0m: name 'time' is not defined"
     ]
    }
   ],
   "source": [
    "import numpy as np\n",
    "\n",
    "#Python function to evalute model formula\n",
    "def coffee_temp_func(time,t_room,t_initial,k):\n",
    "    return t_room+(t_initial-t_room)*np.exp(-k*time)\n",
    "\n",
    "#Once the function is defined, we can call it to evaluate different inputs\n",
    "\n",
    "#This is how we call the function:\n",
    "#coffee_temp = coffee_temp_func(time,t_room,t_initial,k)\n",
    "coffee_temp = coffee_temp_func(0,68,150,.05)\n",
    "print(\"{} minutes after MBK sets down her coffee cup, the temperature is {}\".format(time,coffee_temp))\n"
   ]
  },
  {
   "cell_type": "markdown",
   "id": "3f4b478f-bac6-419d-9423-1c5c7f31c466",
   "metadata": {},
   "source": [
    "Below we are going to write a Python function to help us evaluate the model \n",
    "$$H(d) = \\frac{1}{d}$$\n",
    "for different input values."
   ]
  },
  {
   "cell_type": "code",
   "execution_count": null,
   "id": "40236e08-e6d6-4201-87d4-6431cdd1d667",
   "metadata": {},
   "outputs": [],
   "source": [
    "#Python function to evaluate H(d) = 1/d\n",
    "def happiness_func(d):\n",
    "    happiness_val = 1/d\n",
    "    return happiness_val"
   ]
  },
  {
   "cell_type": "code",
   "execution_count": null,
   "id": "64d9b033-215d-4d77-87db-d4569f493be0",
   "metadata": {},
   "outputs": [],
   "source": [
    "#Once the function is defined, we can call it to evaluate different inputs\n",
    "\n",
    "#This is how we call the function:\n",
    "#happiness_val = happiness_func(distance_val)\n",
    "\n",
    "#Edit the code below\n",
    "input1 = ???\n",
    "output1 = happiness_func(input1)\n",
    "\n",
    "#print the info for easy reading\n",
    "print(\"When the distance is {}, the happiness level is {}.\".format(input1, output1))"
   ]
  },
  {
   "cell_type": "markdown",
   "id": "f1a3f9e9-1bda-4dc7-a974-4c5b453427f5",
   "metadata": {},
   "source": [
    "As always, we're gonna want to plot the function. But first, some questions.\n",
    "\n",
    "1. What is the input variable? What set of numbers makes the most sense to use as the input values? \n",
    "\n",
    "2. What is the output variable? What set of numbers makes the most sense to use as the output values? "
   ]
  },
  {
   "cell_type": "code",
   "execution_count": null,
   "id": "0f8aebfd-8bdd-421c-8672-2c77f9f192a9",
   "metadata": {},
   "outputs": [],
   "source": [
    "import numpy as np\n",
    "import matplotlib.pyplot as plt\n",
    "#new_array = np.linspace(smallest,biggest,number of points)\n",
    "\n",
    "#Edit the code below\n",
    "#define the set of input vals\n",
    "distance_vals = np.linspace(???,???,???)\n",
    "#evaluate the function to get the corresponding set of output vals\n",
    "happiness_vals = happiness_func(distance_vals)\n",
    "\n",
    "#plot the result\n",
    "plt.plot(distance_vals,happiness_vals)\n",
    "plt.xlabel(\"Distance from Cat\")\n",
    "plt.ylabel(\"Happiness Level\")"
   ]
  }
 ],
 "metadata": {
  "kernelspec": {
   "display_name": "Python 3 (ipykernel)",
   "language": "python",
   "name": "python3"
  },
  "language_info": {
   "codemirror_mode": {
    "name": "ipython",
    "version": 3
   },
   "file_extension": ".py",
   "mimetype": "text/x-python",
   "name": "python",
   "nbconvert_exporter": "python",
   "pygments_lexer": "ipython3",
   "version": "3.9.6"
  }
 },
 "nbformat": 4,
 "nbformat_minor": 5
}
