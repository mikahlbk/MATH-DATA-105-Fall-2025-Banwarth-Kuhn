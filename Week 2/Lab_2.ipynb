{
 "cells": [
  {
   "cell_type": "markdown",
   "id": "e4e98662-c717-4088-b95a-d434f2ee0d2b",
   "metadata": {},
   "source": [
    "<div style=\"font-family: ui-sans-serif, system-ui, -apple-system, Segoe UI, Roboto, 'Helvetica Neue', Arial; padding: 20px; border-radius: 16px; box-shadow: 0 10px 25px rgba(0,0,0,.08); background: linear-gradient(135deg,#fff 0%, #f0f7ff 60%, #e8fff4 100%);\">\n",
    "  <h1 style=\"margin:0 0 8px; font-size: 2rem;\">\n",
    "    👋 Welcome to Math 105 Lab 2!\n",
    "  </h1>\n",
    "<div style=\"margin-top:16px; padding:12px 14px; border:1px dashed #94a3b8; border-radius:12px; background:#fff;\">\n",
    "    <strong>Today’s mission:</strong> More practice with functions, especially input and out.</div>\n",
    "\n",
    "  <div style=\"margin-top:14p"
   ]
  },
  {
   "cell_type": "markdown",
   "id": "3f4b478f-bac6-419d-9423-1c5c7f31c466",
   "metadata": {},
   "source": [
    "Below we are going to write a Python function to help us evaluate the model \n",
    "$$H(d) = \\frac{1}{d}$$\n",
    "for different input values."
   ]
  },
  {
   "cell_type": "code",
   "execution_count": 15,
   "id": "40236e08-e6d6-4201-87d4-6431cdd1d667",
   "metadata": {},
   "outputs": [],
   "source": [
    "#function to evaluate H(d) = 1/d\n",
    "def happiness_func(d):\n",
    "    happiness_val = 1/d\n",
    "    return happiness_val"
   ]
  },
  {
   "cell_type": "code",
   "execution_count": 16,
   "id": "64d9b033-215d-4d77-87db-d4569f493be0",
   "metadata": {},
   "outputs": [
    {
     "name": "stdout",
     "output_type": "stream",
     "text": [
      "When the distance is 3, the happiness level is 0.3333333333333333.\n"
     ]
    }
   ],
   "source": [
    "#Once the function is defined, we can call it to evaluate different inputs\n",
    "\n",
    "#This is how we call the function:\n",
    "#happiness_val = happiness_func(distance_val)\n",
    "\n",
    "#Edit the code below\n",
    "input1 = 3\n",
    "output1 = happiness_func(input1)\n",
    "\n",
    "#print the info for easy reading\n",
    "print(\"When the distance is {}, the happiness level is {}.\".format(input1, output1))"
   ]
  },
  {
   "cell_type": "markdown",
   "id": "f1a3f9e9-1bda-4dc7-a974-4c5b453427f5",
   "metadata": {},
   "source": [
    "As always, we're gonna want to plot the function. But first, some questions.\n",
    "\n",
    "1. What is the input variable? What set of numbers makes the most sense to use as the input values? \n",
    "\n",
    "2. What is the output variable? What set of numbers makes the most sense to use as the output values? "
   ]
  },
  {
   "cell_type": "code",
   "execution_count": 18,
   "id": "0f8aebfd-8bdd-421c-8672-2c77f9f192a9",
   "metadata": {},
   "outputs": [
    {
     "data": {
      "text/plain": [
       "Text(0, 0.5, 'Happiness Level')"
      ]
     },
     "execution_count": 18,
     "metadata": {},
     "output_type": "execute_result"
    },
    {
     "data": {
      "image/png": "[encoded data removed]",
      "text/plain": [
       "<Figure size 640x480 with 1 Axes>"
      ]
     },
     "metadata": {},
     "output_type": "display_data"
    }
   ],
   "source": [
    "import numpy as np\n",
    "import matplotlib.pyplot as plt\n",
    "#new_array = np.linspace(smallest,biggest,number of points)\n",
    "\n",
    "#define the set of input vals\n",
    "distance_vals = np.linspace(.01,100,100)\n",
    "#evaluate the function to get the corresponding set of output vals\n",
    "happiness_vals = happiness_func(distance_vals)\n",
    "\n",
    "#plot the result\n",
    "plt.plot(distance_vals,happiness_vals,)\n",
    "plt.xlabel(\"Distance from Cat\")\n",
    "plt.ylabel(\"Happiness Level\")"
   ]
  },
  {
   "cell_type": "code",
   "execution_count": null,
   "id": "b3c4bba4-7572-423a-ade6-2829f22bf89b",
   "metadata": {},
   "outputs": [],
   "source": []
  }
 ],
 "metadata": {
  "kernelspec": {
   "display_name": "Python 3 (ipykernel)",
   "language": "python",
   "name": "python3"
  },
  "language_info": {
   "codemirror_mode": {
    "name": "ipython",
    "version": 3
   },
   "file_extension": ".py",
   "mimetype": "text/x-python",
   "name": "python",
   "nbconvert_exporter": "python",
   "pygments_lexer": "ipython3",
   "version": "3.11.13"
  }
 },
 "nbformat": 4,
 "nbformat_minor": 5
}
