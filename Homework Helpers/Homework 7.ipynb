{
 "cells": [
  {
   "cell_type": "markdown",
   "id": "20256f44-d06b-4da0-ae7c-db4ee2898511",
   "metadata": {},
   "source": [
    "$\\textbf{\\large{Use the code cells below for Exercise 1.}}$\n",
    "\n",
    "\n",
    "\n",
    "\n",
    "$\\textbf{\\large{The next code cell finds the derivative of a function.}}$"
   ]
  },
  {
   "cell_type": "code",
   "execution_count": 147,
   "id": "f05063af-05e7-4e61-b7d4-095faa5ad5e6",
   "metadata": {},
   "outputs": [
    {
     "name": "stdout",
     "output_type": "stream",
     "text": [
      "Function: exp(x) + exp(-2*x)\n",
      "Derivative: exp(x) - 2*exp(-2*x)\n"
     ]
    }
   ],
   "source": [
    "#import packages\n",
    "import sympy as sp\n",
    "import numpy as np\n",
    "\n",
    "# Define the input variable\n",
    "x = sp.Symbol('x')\n",
    "\n",
    "# Define the function\n",
    "f = sp.exp(x)+sp.exp(-2*x)\n",
    "print(\"Function:\", f)\n",
    "\n",
    "# Take the derivative\n",
    "f_prime = sp.diff(f, x)\n",
    "print(\"Derivative:\", f_prime)"
   ]
  },
  {
   "cell_type": "markdown",
   "id": "c2391143-f92b-4d8a-a112-bd3ccb24bf5f",
   "metadata": {},
   "source": [
    "$\\textbf{\\large{The next code cell finds the input values where the output of the derivative function is equal to zero.}}$\n",
    "\n",
    "$\\textbf{\\large{In other words it solves the equation,} f'(x) = 0.}$"
   ]
  },
  {
   "cell_type": "code",
   "execution_count": 148,
   "id": "353ecc23-b12a-42d4-acc4-181f1f44ae54",
   "metadata": {},
   "outputs": [
    {
     "name": "stdout",
     "output_type": "stream",
     "text": [
      "[log(2**(1/3)) - 2*I*pi/3, log(2**(1/3)) + 2*I*pi/3, log(2**(1/3))]\n"
     ]
    }
   ],
   "source": [
    "#import packages\n",
    "from sympy import symbols, Eq, solve\n",
    "\n",
    "# define input variable\n",
    "x = symbols('x')\n",
    "# define equation to solve\n",
    "equation = Eq(sp.exp(x) - 2*sp.exp(-2*x), 0)\n",
    "\n",
    "# ask python to solve this equation\n",
    "solutions = solve(equation, x)\n",
    "\n",
    "# print solution\n",
    "print(solutions)"
   ]
  },
  {
   "cell_type": "markdown",
   "id": "8914c5fc-830b-45d0-8e34-c0c9c964e1f0",
   "metadata": {},
   "source": [
    "$\\textbf{\\large{Use the next code cell to evaluate the derivative function at the test points.}}$\n",
    "\n",
    "$\\textbf{\\large{This is more reliable than using a calculator.}}$"
   ]
  },
  {
   "cell_type": "code",
   "execution_count": 149,
   "id": "cfaae68a-e6a2-444d-a463-aca7450646ea",
   "metadata": {},
   "outputs": [
    {
     "name": "stdout",
     "output_type": "stream",
     "text": [
      "15\n"
     ]
    }
   ],
   "source": [
    "# define a python function to evaluate the derivative at test points\n",
    "def derivative_func(x):\n",
    "    return 3*x**2 - 12*x #change this to match the derivative function\n",
    "\n",
    "\n",
    "test_pt_1 = -1#left of 0\n",
    "value_1 = derivative_func(test_pt_1)\n",
    "print(value_1)"
   ]
  },
  {
   "cell_type": "markdown",
   "id": "aed3734d-69c2-4cc5-9620-0c49c8916d36",
   "metadata": {},
   "source": [
    "$\\textbf{\\large{Use the next code cell to graph the original function.}}$"
   ]
  },
  {
   "cell_type": "markdown",
   "id": "f5f60a5d-7b8d-4774-ad69-e6f1664fe5e2",
   "metadata": {},
   "source": [
    "$\\textbf{\\large{Use the code cells below for Exercise 2.}}$\n",
    "\n",
    "\n",
    "$\\textbf{\\large{Exercise 2.c.iv: The next code cell simplifies the expression from Exercise 2.c.iii}}$"
   ]
  },
  {
   "cell_type": "code",
   "execution_count": 150,
   "id": "8a37e476-58f4-4542-8973-72617468694a",
   "metadata": {},
   "outputs": [
    {
     "name": "stdout",
     "output_type": "stream",
     "text": [
      "Simplified: 15.1666666666667*m**2 - 60.0666666666667*m + 63.3066666666667\n"
     ]
    }
   ],
   "source": [
    "#import packages\n",
    "import sympy as sp\n",
    "\n",
    "#define the input variable m\n",
    "m = sp.symbols('m')\n",
    "\n",
    "#fill in the expression you got in Exercise 2.C.iii\n",
    "expr = (1/6)*((3.4-m*1)**2+(7.6-m*2)**2+(6.7-m*3)**2+(8.3-m*4)**2+(10.5-m*5)**2+(9.3-m*6)**2)\n",
    "\n",
    "#have python simplify the expression for you\n",
    "print(\"Simplified:\", sp.simplify(expr))"
   ]
  },
  {
   "cell_type": "markdown",
   "id": "e5a3d46c-78ce-4e2d-ba6e-b1af5a186b21",
   "metadata": {},
   "source": [
    "$\\textbf{\\large{Exercise 2.c.v: The next code cell finds the derivative C'(m).}}$"
   ]
  },
  {
   "cell_type": "code",
   "execution_count": 151,
   "id": "e357a6f5-fed3-4a8a-b249-3416948de77a",
   "metadata": {},
   "outputs": [
    {
     "name": "stdout",
     "output_type": "stream",
     "text": [
      "Function: 15.1666666666667*m**2 - 60.0666666666667*m + 63.3066666666667\n",
      "Derivative: 30.3333333333334*m - 60.0666666666667\n"
     ]
    }
   ],
   "source": [
    "#import packages\n",
    "import sympy as sp\n",
    "import numpy as np\n",
    "\n",
    "# Define the input variable\n",
    "m = sp.Symbol('m')\n",
    "\n",
    "# Define the function\n",
    "c = 15.1666666666667*m**2 - 60.0666666666667*m + 63.3066666666667\n",
    "print(\"Function:\", c)\n",
    "\n",
    "# Take the derivative\n",
    "c_prime = sp.diff(c, m)\n",
    "print(\"Derivative:\", c_prime)"
   ]
  },
  {
   "cell_type": "markdown",
   "id": "739428bb-ac57-43d7-8085-303f7a93b119",
   "metadata": {},
   "source": [
    "$\\textbf{\\large{Exercise 2.c.vi: The next code cell solves the equation C'(m) = 0.}}$"
   ]
  },
  {
   "cell_type": "code",
   "execution_count": 152,
   "id": "f8bbd70e-1cf3-4cb7-83f6-2f112ce725ec",
   "metadata": {},
   "outputs": [
    {
     "name": "stdout",
     "output_type": "stream",
     "text": [
      "[1.98021978021978]\n"
     ]
    }
   ],
   "source": [
    "#import packages\n",
    "from sympy import symbols, Eq, solve\n",
    "\n",
    "# define input variable\n",
    "m = symbols('m')\n",
    "# define equation to solve\n",
    "equation = Eq(30.3333333333334*m - 60.0666666666667, 0)\n",
    "\n",
    "# ask python to solve this equation\n",
    "solutions = solve(equation, m)\n",
    "\n",
    "# print solution\n",
    "print(solutions)"
   ]
  },
  {
   "cell_type": "markdown",
   "id": "aa770488-8b89-4455-91de-7fd903694ba4",
   "metadata": {},
   "source": [
    "$\\textbf{\\large{Exercise 2.c.vii: The next code cell plots the cost function.}}$"
   ]
  },
  {
   "cell_type": "code",
   "execution_count": 153,
   "id": "6bf9b20a-571d-4963-8602-d27a7c94ddf1",
   "metadata": {},
   "outputs": [
    {
     "data": {
      "image/png": "[encoded data removed]",
      "text/plain": [
       "<Figure size 640x480 with 1 Axes>"
      ]
     },
     "metadata": {},
     "output_type": "display_data"
    }
   ],
   "source": [
    "#import packages\n",
    "import numpy as np\n",
    "import matplotlib.pyplot as plt\n",
    "\n",
    "# ---------------------------------------------\n",
    "# Observed data: advertising dollars vs. sales revenue\n",
    "# ---------------------------------------------\n",
    "dollars_spent = np.array([1, 2, 3, 4,5,6])\n",
    "sales_revenue = np.array([3.4,7.6,6.7,8.3,10.5,9.3])\n",
    "\n",
    "# ---------------------------------------------\n",
    "# Step 1: Create a range of possible slope values (our model parameters)\n",
    "# ---------------------------------------------\n",
    "# We'll test slope values from 0 to 5 in steps of 0.5\n",
    "slope_choices = np.arange(0, 5.5, 0.5)\n",
    "\n",
    "# ---------------------------------------------\n",
    "# Step 2: Generate predictions for each slope\n",
    "# ---------------------------------------------\n",
    "# Each slope defines a line:  ŷ = m * x\n",
    "# We compute predicted y-values for each slope and each data point\n",
    "predictions = slope_choices[:, np.newaxis] * dollars_spent\n",
    "\n",
    "# ---------------------------------------------\n",
    "# Step 3: Compute the cost for each slope\n",
    "# ---------------------------------------------\n",
    "# We'll use Mean Squared Error (MSE):\n",
    "#     Cost = (1/n) * Σ (y - ŷ)²\n",
    "cost = (1 / len(sales_revenue)) * np.sum((sales_revenue - predictions) ** 2, axis=1)\n",
    "\n",
    "# ---------------------------------------------\n",
    "# Step 4: Plot the cost function\n",
    "# ---------------------------------------------\n",
    "plt.plot(slope_choices, cost, marker=\"o\", label=\"Cost\")\n",
    "plt.xlabel(\"Slope value (m)\")\n",
    "plt.ylabel(\"Cost (Mean Squared Error)\")\n",
    "plt.xlim([0, 6])\n",
    "plt.ylim([0, 50])\n",
    "plt.grid(True)\n",
    "plt.legend()\n",
    "plt.show()\n"
   ]
  },
  {
   "cell_type": "markdown",
   "id": "f46f0e81-4e79-489a-b7af-6e8a4ea7892a",
   "metadata": {},
   "source": [
    "$\\textbf{\\large{Exercise 2.c.ix: The next code cell helps carry out gradient descent.}}$"
   ]
  },
  {
   "cell_type": "code",
   "execution_count": 154,
   "id": "06690269-93df-4743-8492-f0401302ad75",
   "metadata": {},
   "outputs": [
    {
     "name": "stdout",
     "output_type": "stream",
     "text": [
      "The cost for m = -6 is 969.7066666666666.\n",
      "The gradient at m = -6 is -242.0666666666671.\n",
      "The next guess for the slope is -3.579333333333329.\n"
     ]
    }
   ],
   "source": [
    "# ---------------------------------------------\n",
    "# Observed data: advertising dollars vs. sales revenue\n",
    "# DO NOT CHANGE\n",
    "# ---------------------------------------------\n",
    "dollars_spent = np.array([1, 2, 3, 4,5,6])\n",
    "sales_revenue = np.array([3.4,7.6,6.7,8.3,10.5,9.3])\n",
    "\n",
    "# ---------------------------------------------\n",
    "# Define Python Functions to Use\n",
    "# DO NOT CHANGE\n",
    "# ---------------------------------------------\n",
    "# make a function to compute the MSE\n",
    "def cost_func(m,input_vals,output_vals):\n",
    "    return (1/len(output_vals))*np.sum((output_vals-m*input_vals)**2)\n",
    "#make a function to compute the gradient at each choice of m\n",
    "def gradient_func(m):\n",
    "    return 30.3333333333334*m - 60.0666666666667\n",
    "\n",
    "# ---------------------------------------------\n",
    "# YOU set the learning rate\n",
    "# CHANGE ONCE\n",
    "# ---------------------------------------------\n",
    "eta = .01\n",
    "# ------------------------------------------------------------------------\n",
    "# YOU change curr_m to carry out gradient descent, start with curr_m = m_0\n",
    "# CHANGE MANY TIMES\n",
    "# -------------------------------------------------------------------------\n",
    "curr_m = -6\n",
    "# ------------------------------------------------------------------------\n",
    "# Dont change antyhing below here, just read the output\n",
    "# DO NOT CHANGE\n",
    "# -------------------------------------------------------------------------\n",
    "#compute the cost for a given choice of m \n",
    "curr_cost = cost_func(curr_m,dollars_spent,sales_revenue)\n",
    "#print the result\n",
    "print(\"The cost for m = {} is {}.\".format(curr_m,curr_cost))\n",
    "#gradient at curr_m\n",
    "gradient = gradient_func(curr_m)\n",
    "print(\"The gradient at m = {} is {}.\".format(curr_m,gradient))\n",
    "#next m\n",
    "next_m = curr_m-(gradient*eta)\n",
    "print(\"The next guess for the slope is {}.\".format(next_m))"
   ]
  },
  {
   "cell_type": "markdown",
   "id": "b5d2c74c-d759-4172-bdc2-ad260dd1a797",
   "metadata": {},
   "source": [
    "$\\textbf{\\large{Use the code cells below for Exercise 3.}}$\n",
    "\n",
    "\n",
    "$\\textbf{\\large{The next code cell carries out gradient descent.}}$"
   ]
  },
  {
   "cell_type": "code",
   "execution_count": 155,
   "id": "dac4dc3b-6219-4e4e-9346-c637d0a8168f",
   "metadata": {},
   "outputs": [
    {
     "name": "stdout",
     "output_type": "stream",
     "text": [
      "The cost for m = 70 is 2244.874174814674.\n",
      "The gradient at m = 70 is 64.8786940643623.\n",
      "The next guess for the slope is 63.51213059356377.\n"
     ]
    }
   ],
   "source": [
    "#---------------------------\n",
    "# Define Python Functions to Use\n",
    "# DO NOT CHANGE\n",
    "# ---------------------------------------------\n",
    "# make a function to compute the MSE\n",
    "def cost_func(m,input_vals,output_vals):\n",
    "    return 0.5*(m-3)**2 + 0.8*np.sin(3*m)\n",
    "#make a function to compute the gradient at each choice of m\n",
    "def gradient_func(m):\n",
    "     return (m-3) + 2.4*np.cos(3*m)\n",
    "\n",
    "# ---------------------------------------------\n",
    "# YOU set the learning rate\n",
    "# CHANGE ONCE\n",
    "# ---------------------------------------------\n",
    "eta = .1\n",
    "# ------------------------------------------------------------------------\n",
    "# YOU change curr_m to carry out gradient descent, start with curr_m = m_0\n",
    "# CHANGE MANY TIMES\n",
    "# -------------------------------------------------------------------------\n",
    "curr_m = 70\n",
    "# ------------------------------------------------------------------------\n",
    "# Dont change antyhing below here, just read the output\n",
    "# DO NOT CHANGE\n",
    "# -------------------------------------------------------------------------\n",
    "#compute the cost for a given choice of m \n",
    "curr_cost = cost_func(curr_m,dollars_spent,sales_revenue)\n",
    "#print the result\n",
    "print(\"The cost for m = {} is {}.\".format(curr_m,curr_cost))\n",
    "#gradient at curr_m\n",
    "gradient = gradient_func(curr_m)\n",
    "print(\"The gradient at m = {} is {}.\".format(curr_m,gradient))\n",
    "#next m\n",
    "next_m = curr_m-(gradient*eta)\n",
    "print(\"The next guess for the slope is {}.\".format(next_m))"
   ]
  }
 ],
 "metadata": {
  "kernelspec": {
   "display_name": "Python 3 (ipykernel)",
   "language": "python",
   "name": "python3"
  },
  "language_info": {
   "codemirror_mode": {
    "name": "ipython",
    "version": 3
   },
   "file_extension": ".py",
   "mimetype": "text/x-python",
   "name": "python",
   "nbconvert_exporter": "python",
   "pygments_lexer": "ipython3",
   "version": "3.9.6"
  }
 },
 "nbformat": 4,
 "nbformat_minor": 5
}
