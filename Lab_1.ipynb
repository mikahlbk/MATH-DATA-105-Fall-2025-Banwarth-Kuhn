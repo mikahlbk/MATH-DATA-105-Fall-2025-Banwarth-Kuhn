{
 "cells": [
  {
   "cell_type": "markdown",
   "id": "e048783d-ba29-4ec6-a5d1-e44b9f17cd95",
   "metadata": {},
   "source": [
    "<div style=\"font-family: ui-sans-serif, system-ui, -apple-system, Segoe UI, Roboto, 'Helvetica Neue', Arial; padding: 20px; border-radius: 16px; box-shadow: 0 10px 25px rgba(0,0,0,.08); background: linear-gradient(135deg,#fff 0%, #f0f7ff 60%, #e8fff4 100%);\">\n",
    "  <h1 style=\"margin:0 0 8px; font-size: 2rem;\">\n",
    "    👋 Welcome to Math 105 Lab 1!\n",
    "  </h1>\n",
    "<div style=\"text-align: center; font-size: 1.5rem; font-weight: bold; margin: 20px 0;\">\n",
    "  ✨This is a Jupyter notebook✨\n",
    "</div>\n",
    "      \n",
    "  <div style=\"margin-top:16px; padding:12px 14px; border:1px dashed #94a3b8; border-radius:12px; background:#fff;\">\n",
    "    <strong>Today’s mission:</strong> Familiarize ourselves with Jupyter notebooks, python code, and start thinking about functions.</div>\n",
    "\n",
    "  <div style=\"margin-top:14p\n"
   ]
  },
  {
   "cell_type": "markdown",
   "id": "cf7d4635-490c-42d3-ae4c-671eb45e2f67",
   "metadata": {},
   "source": [
    "This is a Markdown cell. We use markdown cells to communicate our thinking in words. We can also be a little fancy and write math!\n",
    "\n",
    "For example,\n",
    "$$f(x) = x^2, \\pi, \\sqrt{2}$$"
   ]
  },
  {
   "cell_type": "code",
   "execution_count": null,
   "id": "cdcb1c66-2f7c-44fb-a96f-e29632cb32c0",
   "metadata": {},
   "outputs": [],
   "source": [
    "#this is a code cell\n",
    "#when I begin the line with a pound sign, the computer ignores this text\n",
    "#we call this a comment\n",
    "#the next line wont start with #, hit play and see w"
   ]
  },
  {
   "cell_type": "code",
   "execution_count": null,
   "id": "200e789d-8624-4adf-ad68-ecff325dd366",
   "metadata": {},
   "outputs": [],
   "source": []
  }
 ],
 "metadata": {
  "kernelspec": {
   "display_name": "Python 3 (ipykernel)",
   "language": "python",
   "name": "python3"
  },
  "language_info": {
   "codemirror_mode": {
    "name": "ipython",
    "version": 3
   },
   "file_extension": ".py",
   "mimetype": "text/x-python",
   "name": "python",
   "nbconvert_exporter": "python",
   "pygments_lexer": "ipython3",
   "version": "3.11.13"
  }
 },
 "nbformat": 4,
 "nbformat_minor": 5
}
