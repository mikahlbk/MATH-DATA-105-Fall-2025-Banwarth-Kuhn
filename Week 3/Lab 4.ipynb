{
 "cells": [
  {
   "cell_type": "markdown",
   "id": "e776e3da-57e2-4719-98f6-0b4b3b60f54a",
   "metadata": {},
   "source": [
    "## $\\textbf{Modeling Scenario 1: Pet-Sitting Startup.}$\n",
    "\n",
    "You and a friend start a pet-sitting business in Hayward. You decide to charge a one-time account setup fee of $\\$20$ plus $\\$40$ per day for daily care and home visits.\n",
    "\n",
    "<ul>\n",
    "      <li>What is your income after 0, 1, 2, 3, 4 or 5 days? Fill in the table on the worksheet to show your results.</li>\n",
    "      <li>Graph this relationship in the code cell below. Include axis labels.\n",
    "      <li>What are the units of $\\frac{\\Delta Income}{\\Delta Time}$?</li>\n",
    "      <li>Compute the average rate of change of your income over every time interval? Do you notice any patterns?</li>\n",
    "</ul>"
   ]
  },
  {
   "cell_type": "code",
   "execution_count": null,
   "id": "6bc3577a-7e42-4325-9d01-5eeba1814970",
   "metadata": {},
   "outputs": [],
   "source": [
    "import matplotlib.pyplot as plt\n",
    "\n",
    "#### make the list of inputs ####\n",
    "\n",
    "#days = [] #uncomment this line and add the input values\n",
    "\n",
    "#### make the list of outputs ####\n",
    "#income = [] #uncomment this line and add the output values\n",
    "\n",
    "#### plot the data ####\n",
    "\n",
    "#plt.plot(input values, output values, marker = 'o',label = 'name of quantity')\n",
    "#plt.plot(???,???,marker = 'o',label = \"???\") #uncomment this line and replace the ???\n",
    "plt.xlabel(\"x label\")\n",
    "plt.ylabel(\"y label\")"
   ]
  },
  {
   "cell_type": "markdown",
   "id": "ac6f4726-16ba-4896-9a43-5e71a82669a8",
   "metadata": {},
   "source": [
    "## $\\textbf{Modeling Scenario 2: Cat Meme Mayhem.}$\n",
    "\n",
    "Dr. MBK posts a hilarious cat meme on social media and 5 people see it. After that, the number of views doubles every hour as more and more people share it with their friends.\n",
    "\n",
    "<ul>\n",
    "      <li>How many people have seen the meme after 0, 1, 2, 3, 4 or 5 hours? Use a table to show your results.</li>\n",
    "      <li>Graph this relationship in the code cell below. Include axis labels.\n",
    "      <li>What are the units of $\\frac{\\Delta Views}{\\Delta Time}$?</li>\n",
    "      <li>Compute the average rate of change of views over every time interval? Do you notice any patterns?</li>\n",
    "\n",
    "</ul>"
   ]
  },
  {
   "cell_type": "code",
   "execution_count": null,
   "id": "119ac271-bdcd-4ae9-8716-0b0be3041fcb",
   "metadata": {},
   "outputs": [],
   "source": [
    "import matplotlib.pyplot as plt\n",
    "\n",
    "#### make the list of inputs ####\n",
    "\n",
    "#hours = [] #uncomment this line and add the input values\n",
    "\n",
    "#### make the list of outputs ####\n",
    "#views = [] #uncomment this line and add the output values\n",
    "\n",
    "#### plot the data ####\n",
    "\n",
    "#plt.plot(input values, output values, marker = 'o',label = 'name of quantity')\n",
    "#plt.plot(???,???,marker = 'o',label = \"???\") #uncomment this line and replace the ???\n",
    "plt.xlabel(\"x label\")\n",
    "plt.ylabel(\"y label\")"
   ]
  }
 ],
 "metadata": {
  "kernelspec": {
   "display_name": "Python 3 (ipykernel)",
   "language": "python",
   "name": "python3"
  },
  "language_info": {
   "codemirror_mode": {
    "name": "ipython",
    "version": 3
   },
   "file_extension": ".py",
   "mimetype": "text/x-python",
   "name": "python",
   "nbconvert_exporter": "python",
   "pygments_lexer": "ipython3",
   "version": "3.9.6"
  }
 },
 "nbformat": 4,
 "nbformat_minor": 5
}
