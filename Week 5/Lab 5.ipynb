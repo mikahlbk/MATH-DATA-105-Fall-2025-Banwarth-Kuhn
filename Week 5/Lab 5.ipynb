{
 "cells": [
  {
   "cell_type": "markdown",
   "id": "591bb871-c070-4ed1-a38d-78ee31581135",
   "metadata": {},
   "source": [
    "Work-Life Balance. Suppose you are trying to be more intentional about your work-life balance. You decide to track how productive you feel each day based on how many hours you work. At the end of each day, you score your productivity on a scale from 0 to 100, based on how much\n",
    "you get done and how focused you felt. \n",
    "\n",
    "After tracking your data for a month, you notice a clear pattern: too few hours = not enough time to get into the zone; too many hours = burned out. It appears there’s a “just right” number of hours where your productivity peaks.\n",
    "\n",
    "You decide to model your productivity using the formula\n",
    "$$P (t) = 4t(t-10).$$"
   ]
  },
  {
   "cell_type": "code",
   "execution_count": 2,
   "id": "419f7cfb-c0c4-4e4d-a079-f035053198d4",
   "metadata": {},
   "outputs": [],
   "source": [
    "#Python funcntion to return P(t) for a given t\n",
    "def prod_func(time):\n",
    "    return -4*time(time-10)\n",
    "    \n",
    "#Python function to approximate P'(t) for a given t value\n",
    "def change_func(curr_t, delta_t):\n",
    "    p_curr = prod_func(curr_t)\n",
    "    next_t = curr_t + delta_t\n",
    "    p_next = prod_func(next_t)\n",
    "    return (p_next-p_curr)/delta_t"
   ]
  },
  {
   "cell_type": "code",
   "execution_count": null,
   "id": "0d00ca78-4386-4229-8361-84691ef9cf1d",
   "metadata": {},
   "outputs": [],
   "source": [
    "#sample of how to call the functions in the cell above\n",
    "\n",
    "#to estimate P'(4) with Delta t = .2\n",
    "\n",
    "approximation = change_func(4,.1)\n"
   ]
  }
 ],
 "metadata": {
  "kernelspec": {
   "display_name": "Python 3 (ipykernel)",
   "language": "python",
   "name": "python3"
  },
  "language_info": {
   "codemirror_mode": {
    "name": "ipython",
    "version": 3
   },
   "file_extension": ".py",
   "mimetype": "text/x-python",
   "name": "python",
   "nbconvert_exporter": "python",
   "pygments_lexer": "ipython3",
   "version": "3.9.6"
  }
 },
 "nbformat": 4,
 "nbformat_minor": 5
}
