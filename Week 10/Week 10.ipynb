{
 "cells": [
  {
   "cell_type": "markdown",
   "id": "b6908f4d-1969-4de1-8633-12b25c194af1",
   "metadata": {},
   "source": [
    "Consider the dollars spend on advertising (in thousands) vs. sales revenue (in millions) data below that was collected by a separate business."
   ]
  },
  {
   "cell_type": "code",
   "execution_count": null,
   "id": "23b10799-6d4f-41b6-9597-3749ef5a7cbb",
   "metadata": {},
   "outputs": [],
   "source": [
    "import numpy as np\n",
    "import matplotlib.pyplot as plt\n",
    "dollars_spent = [1,2,3,4,5]\n",
    "sales_revenue = [5.8,6.7,10.3,14.4,12.5]\n",
    "plt.scatter(dollars_spent,sales_revenue,marker= \"o\",color = 'blue',label = \"(x,y)- Observed Data\")\n",
    "plt.xlabel(\"Dollars spent on advertising (thousands)\")\n",
    "plt.ylabel(\"Sales revenue (millions)\")\n",
    "plt.legend()\n",
    "plt.ylim([0, 15])\n",
    "plt.xlim([0, 5.5])\n",
    "plt.grid(True)\n",
    "plt.savefig(\"new_data.png\", dpi=300, bbox_inches='tight')\n",
    "plt.show()"
   ]
  },
  {
   "cell_type": "markdown",
   "id": "e1d53bcb-8024-4946-a506-df5624bcecd6",
   "metadata": {},
   "source": [
    "- Use wikki sticks to trace out the predictive model you think best fits this data.  \n",
    "- What does the mathematical equation for your model look like? Write it down.  \n",
    "- Do you think we can use the same approach for this data that we used for the other dataset last week?  \n",
    "  What would you keep the same and what would you change?"
   ]
  },
  {
   "cell_type": "markdown",
   "id": "ccc59556-9592-4b09-9ec7-73ad034460a9",
   "metadata": {},
   "source": [
    "Run the code cell below to see the Cost vs. Slope graph for the model $\\hat{y} = mx$."
   ]
  },
  {
   "cell_type": "code",
   "execution_count": null,
   "id": "5095e5d0-084b-40ad-96af-e43390e3ae54",
   "metadata": {
    "scrolled": true
   },
   "outputs": [],
   "source": [
    "import numpy as np\n",
    "import matplotlib.pyplot as plt\n",
    "\n",
    "# ---------------------------------------------\n",
    "# Observed data: advertising dollars vs. sales revenue\n",
    "# ---------------------------------------------\n",
    "dollars_spent = [1,2,3,4,5]\n",
    "sales_revenue = [5.8,6.7,10.3,14.4,12.5]\n",
    "\n",
    "# ---------------------------------------------\n",
    "# Step 1: Create a range of possible slope values (our model parameters)\n",
    "# ---------------------------------------------\n",
    "# We'll test slope values from 0 to 5 in steps of 0.5\n",
    "slope_choices = np.arange(0, 5.5, 0.5)\n",
    "\n",
    "# ---------------------------------------------\n",
    "# Step 2: Generate predictions for each slope\n",
    "# ---------------------------------------------\n",
    "# Each slope defines a line:  ŷ = m * x\n",
    "# We compute predicted y-values for each slope and each data point\n",
    "predictions = slope_choices[:, np.newaxis] * dollars_spent\n",
    "\n",
    "# ---------------------------------------------\n",
    "# Step 3: Compute the cost for each slope\n",
    "# ---------------------------------------------\n",
    "# We'll use Mean Squared Error (MSE):\n",
    "#     Cost = (1/n) * Σ (y - ŷ)²\n",
    "cost = (1 / len(sales_revenue)) * np.sum((sales_revenue - predictions) ** 2, axis=1)\n",
    "\n",
    "# ---------------------------------------------\n",
    "# Step 4: Plot the cost function\n",
    "# ---------------------------------------------\n",
    "plt.plot(slope_choices, cost, marker=\"o\", label=\"Cost\")\n",
    "plt.xlabel(\"Slope value (m)\")\n",
    "plt.ylabel(\"Cost (Mean Squared Error)\")\n",
    "plt.xlim([-.5, 5.5])\n",
    "plt.ylim([0, 120])\n",
    "plt.grid(True)\n",
    "plt.legend()\n",
    "plt.show()"
   ]
  },
  {
   "cell_type": "markdown",
   "id": "df3801bd-132e-4592-9dcf-9a03f32df4e8",
   "metadata": {},
   "source": [
    "Pick some test values for the $\\texttt{init\\_value}$ and see how it changes the plot of Cost vs. Slope."
   ]
  },
  {
   "cell_type": "code",
   "execution_count": null,
   "id": "f5a89040-58a5-48fc-945d-f4a902eece33",
   "metadata": {},
   "outputs": [],
   "source": [
    "import numpy as np\n",
    "import matplotlib.pyplot as plt\n",
    "\n",
    "# ---------------------------------------------\n",
    "# Observed data: advertising dollars vs. sales revenue\n",
    "# ---------------------------------------------\n",
    "dollars_spent = [1,2,3,4,5]\n",
    "sales_revenue = [5.8,6.7,10.3,14.4,12.5]\n",
    "\n",
    "# ---------------------------------------------\n",
    "# Step 1: Create a range of possible slope values (our model parameters)\n",
    "# ---------------------------------------------\n",
    "# We'll test slope values from 0 to 5 in steps of 0.5\n",
    "slope_choices = np.arange(0, 5.5, 0.5)\n",
    "# We'll choose init_val = 2\n",
    "init_val = 1\n",
    "# ---------------------------------------------\n",
    "# Step 2: Generate predictions for each slope\n",
    "# ---------------------------------------------\n",
    "# Each slope defines a line:  ŷ = m * x\n",
    "# We compute predicted y-values for each slope and each data point\n",
    "predictions = slope_choices[:, np.newaxis] * dollars_spent + init_val\n",
    "\n",
    "# ---------------------------------------------\n",
    "# Step 3: Compute the cost for each slope\n",
    "# ---------------------------------------------\n",
    "# We'll use Mean Squared Error (MSE):\n",
    "#     Cost = (1/n) * Σ (y - ŷ)²\n",
    "cost = (1 / len(sales_revenue)) * np.sum((sales_revenue - predictions) ** 2, axis=1)\n",
    "\n",
    "# ---------------------------------------------\n",
    "# Step 4: Plot the cost function\n",
    "# ---------------------------------------------\n",
    "plt.plot(slope_choices, cost, marker=\"o\", label=\"Cost\")\n",
    "plt.xlabel(\"Slope value (m)\")\n",
    "plt.ylabel(\"Cost (Mean Squared Error)\")\n",
    "plt.xlim([-.5, 5.5])\n",
    "plt.ylim([0, 120])\n",
    "plt.grid(True)\n",
    "plt.legend()\n",
    "plt.show()"
   ]
  },
  {
   "cell_type": "markdown",
   "id": "10731cf1-1234-4100-bd43-956316a1639e",
   "metadata": {},
   "source": [
    "What we really want to do is optimize $m$ and $\\texttt{init\\_value}$ at the same time. \n",
    "\n",
    "How do you propose we do that? For example, how do you think the cost function should change?"
   ]
  },
  {
   "cell_type": "markdown",
   "id": "cb567cac-08cc-47f0-838a-f0007069eb29",
   "metadata": {},
   "source": [
    "Let's write out the cost function term-by-term."
   ]
  },
  {
   "cell_type": "code",
   "execution_count": null,
   "id": "3b6f1a5e-7359-49a5-9542-3ee93c8f6e55",
   "metadata": {},
   "outputs": [],
   "source": [
    "import sympy as sp\n",
    "\n",
    "??? = sp.symbols('???')\n",
    "\n",
    "expr = (???)\n",
    "\n",
    "print(\"Simplified:\", sp.simplify(expr))"
   ]
  },
  {
   "cell_type": "code",
   "execution_count": null,
   "id": "f2cbdf88-b82a-497b-a7e4-e5c900f53552",
   "metadata": {
    "scrolled": true
   },
   "outputs": [],
   "source": [
    "import numpy as np\n",
    "import matplotlib.pyplot as plt\n",
    "\n",
    "# ---------------------------------------------\n",
    "# Observed data: advertising dollars vs. sales revenue\n",
    "# ---------------------------------------------\n",
    "dollars_spent = np.array([1,2,3,4,5])\n",
    "sales_revenue = np.array([5.8,6.7,10.3,14.4,12.5])\n",
    "\n",
    "# ---------------------------------------------\n",
    "# Step 1: Create a range of possible slope values (our model parameters)\n",
    "# ---------------------------------------------\n",
    "# We'll test slope values from 0 to 5 in steps of 0.5\n",
    "slopes = np.arange(0, 5.5, .5)\n",
    "# ---------------------------------------------\n",
    "# Step 2: Create a range of possible initial values (our model parameters)\n",
    "# ---------------------------------------------\n",
    "# We'll test init_values -2 to 10 in steps of 0.5\n",
    "init_vals = np.arange(-2,10,.5)\n",
    "\n",
    "# ---------------------------------------------\n",
    "# Step 3: Compute the cost for each slope\n",
    "# ---------------------------------------------\n",
    "# We'll use Mean Squared Error (MSE):\n",
    "#     Cost = (1/n) * Σ (y - ŷ)²\n",
    "mse = np.zeros((len(init_vals), len(slopes)))\n",
    "\n",
    "for i, init_val in enumerate(init_vals):\n",
    "    for j, m in enumerate(slopes):\n",
    "        y_pred = m * dollars_spent + init_val\n",
    "        mse[i, j] = np.mean((sales_revenue - y_pred) ** 2)\n",
    "\n",
    "# Plot heatmap\n",
    "plt.figure(figsize=(10, 8))\n",
    "plt.imshow(\n",
    "    mse,\n",
    "    extent=[slopes.min(), slopes.max(), init_vals.min(), init_vals.max()],\n",
    "    origin='lower',\n",
    "    aspect='auto',\n",
    "    cmap='viridis'\n",
    ")\n",
    "\n",
    "# Add value labels\n",
    "for i, init_val in enumerate(init_vals):\n",
    "    for j, m in enumerate(slopes):\n",
    "        plt.text(m, init_val, f\"{mse[i, j]:.1f}\", ha='left', va='center', color='white', fontsize=8)\n",
    "\n",
    "plt.colorbar(label='Mean Squared Error')\n",
    "plt.xlabel('Slope')\n",
    "plt.ylabel('Init Value')"
   ]
  },
  {
   "cell_type": "markdown",
   "id": "66084dea-ca7b-42a8-b100-7558c54e0314",
   "metadata": {},
   "source": [
    "We have some feeling the derivative is involved, but how?\n",
    "\n",
    "$\\textbf{Partial Derivatives}$. Partial derivatives measure how sensitive a model’s output is to small changes in each input variable while keeping the others constant. In other words, they tell us which parameters or inputs have the greatest influence on the model’s predictions. A large partial derivative means the model is highly sensitive to that variable, while a small one means it has little effect.\n",
    "\n",
    "Great, how do we figure out what the partial derivative is???"
   ]
  },
  {
   "cell_type": "code",
   "execution_count": null,
   "id": "0477d34c-885f-4749-bd4a-0bb23d24ccdb",
   "metadata": {},
   "outputs": [],
   "source": [
    "#import packages\n",
    "import sympy as sp\n",
    "import numpy as np\n",
    "\n",
    "# Define the input variable\n",
    "m = sp.Symbol('m')\n",
    "\n",
    "# Define the function\n",
    "C = ???\n",
    "print(\"Function:\", C)\n",
    "\n",
    "# Take the derivative\n",
    "C_prime_m = sp.diff(C, m)\n",
    "print(\"Derivative with respect to m:\", C_prime_m)"
   ]
  },
  {
   "cell_type": "code",
   "execution_count": null,
   "id": "1cb939f5-c33a-4d32-84da-cf744212c13c",
   "metadata": {},
   "outputs": [],
   "source": [
    "#import packages\n",
    "import sympy as sp\n",
    "import numpy as np\n",
    "\n",
    "# Define the input variable\n",
    "b = sp.Symbol('b')\n",
    "\n",
    "# Define the function\n",
    "C = ???\n",
    "print(\"Function:\", C)\n",
    "\n",
    "# Take the derivative\n",
    "C_prime_b = sp.diff(C, b)\n",
    "print(\"Derivative with respect to b:\", C_prime_b)"
   ]
  },
  {
   "cell_type": "markdown",
   "id": "953448eb-f3e2-45a4-abb1-63b459eba128",
   "metadata": {},
   "source": [
    "Next let's use Gradient Descent to find the best values for $m$ and $init\\_val$.\n",
    "\n",
    "But what does the update look like?"
   ]
  },
  {
   "cell_type": "code",
   "execution_count": null,
   "id": "c78cebd7-c67e-4a56-82f6-574306d352b3",
   "metadata": {},
   "outputs": [],
   "source": [
    "def gradient_func_m(m):\n",
    "    return ???\n",
    "#choice of learning rate\n",
    "eta = .05\n",
    "#current m value\n",
    "curr_m = .75\n",
    "#gradient at curr_m\n",
    "gradient_m = gradient_func_m(curr_m)\n",
    "print(\"The gradient at m = {} is {}.\".format(curr_m,gradient_m))\n",
    "#next m\n",
    "next_m = curr_m-(gradient_m*eta)\n",
    "print(\"The next guess for the slope is {}.\".format(next_m))"
   ]
  },
  {
   "cell_type": "code",
   "execution_count": null,
   "id": "cb897fa7-c559-4b40-bb50-21b3825a15b6",
   "metadata": {},
   "outputs": [],
   "source": [
    "def gradient_func_b(b):\n",
    "    return ???\n",
    "#choice of learning rate\n",
    "eta = .05\n",
    "#current m value\n",
    "curr_b = .75\n",
    "#gradient at curr_b\n",
    "gradient_b = gradient_func_b(curr_b)\n",
    "print(\"The gradient at b = {} is {}.\".format(curr_b,gradient_b))\n",
    "#next m\n",
    "next_b = curr_b-(gradient_b*eta)\n",
    "print(\"The next guess for the initial value is {}.\".format(next_b))"
   ]
  },
  {
   "cell_type": "code",
   "execution_count": null,
   "id": "2db7395a-91cf-457e-9bbc-63da6a541560",
   "metadata": {},
   "outputs": [],
   "source": [
    "# make a function to do the dirty work for us\n",
    "def cost_func(m,init_val,input_vals,output_vals):\n",
    "    return (1/len(output_vals))*np.sum((output_vals-m*input_vals+init_val)**2)\n",
    "# the input and ouput vals depend on the observed data\n",
    "dollars_spent = np.array([1,2,3,4,5])\n",
    "sales_revenue = np.array([5.8,6.7,10.3,14.4,12.5])\n",
    "\n",
    "# choose an m\n",
    "curr_m = .75\n",
    "# choose a b\n",
    "curr_b = .75\n",
    "# save the cost for a given choice of m in the variable curr_cost\n",
    "curr_cost = cost_func(curr_m,curr_b,dollars_spent,sales_revenue)\n",
    "# print the result\n",
    "print(curr_cost)"
   ]
  }
 ],
 "metadata": {
  "kernelspec": {
   "display_name": "Python 3 (ipykernel)",
   "language": "python",
   "name": "python3"
  },
  "language_info": {
   "codemirror_mode": {
    "name": "ipython",
    "version": 3
   },
   "file_extension": ".py",
   "mimetype": "text/x-python",
   "name": "python",
   "nbconvert_exporter": "python",
   "pygments_lexer": "ipython3",
   "version": "3.9.6"
  }
 },
 "nbformat": 4,
 "nbformat_minor": 5
}
