{
 "cells": [
  {
   "cell_type": "markdown",
   "id": "02027c91-9145-4c69-8272-933063a731e2",
   "metadata": {},
   "source": [
    "$\\text{\\textbf{Derivative Rules:}}$\n",
    "\n",
    "Calculating the derivative of a function using the definition is a tedious process involving a lot of algebra. In practice, when we want to find the derivative function, we use well-known rules. Each of these rules can be derived using the definition. If you are curious a quick internet search or ChatGpt convo can give you a good overview of how to derive each rule.\n",
    "\n",
    "We will go over some of the most important ones now."
   ]
  },
  {
   "cell_type": "markdown",
   "id": "19c98c8d-607d-4d72-a649-f75afd0e34e6",
   "metadata": {},
   "source": [
    "$\\text{\\textbf{The Derivative of a Constant Function:}}$\n",
    "\n",
    "Suppose $f(t) = c$ for any number $c$, then\n",
    "$$f'(t) = 0.$$\n",
    "\n",
    "We can also write this using Leibniz notation,\n",
    "$$\\frac{df}{dt}(t) = 0.$$\n",
    "\n",
    "Or the defintion of the derivative\n",
    "$$\\lim_{\\Delta t \\to 0} \\frac{f(t+\\Delta t) -f(t)}{\\Delta t} = 0.$$\n"
   ]
  },
  {
   "cell_type": "code",
   "execution_count": 10,
   "id": "1eef1481-67b6-4e7e-abc8-22fd2555f68e",
   "metadata": {},
   "outputs": [
    {
     "name": "stdout",
     "output_type": "stream",
     "text": [
      "Function: 5\n",
      "Derivative Function: 0\n"
     ]
    },
    {
     "data": {
      "image/png": "[encoded data removed]",
      "text/plain": [
       "<Figure size 640x480 with 1 Axes>"
      ]
     },
     "metadata": {},
     "output_type": "display_data"
    }
   ],
   "source": [
    "#Example\n",
    "import sympy as sp\n",
    "\n",
    "# Define the input variable\n",
    "t = sp.Symbol('t')\n",
    "\n",
    "# Define the function\n",
    "f = 5\n",
    "print(\"Function:\", f)\n",
    "# Turn the function into a Python function\n",
    "f_func = sp.lambdify(t, f, 'numpy')\n",
    "\n",
    "# Take the derivative\n",
    "f_prime = sp.diff(f, t)\n",
    "print(\"Derivative Function:\", f_prime)\n",
    "# Turn the derivative into a Python function\n",
    "f_prime_func = sp.lambdify(t, f_prime, 'numpy')\n",
    "\n",
    "#Plot it\n",
    "import matplotlib.pyplot as plt\n",
    "import numpy as np\n",
    "t_vals = np.linspace(-20, 20, 100)\n",
    "plt.plot(t_vals, np.full_like(t_vals, f_func(t_vals)), color=\"black\", label=\"f(t)\")\n",
    "plt.plot(t_vals, np.full_like(t_vals, f_prime_func(t_vals)), color=\"blue\", label=\"f'(t)\")\n",
    "plt.legend()\n",
    "plt.show()"
   ]
  },
  {
   "cell_type": "markdown",
   "id": "b21e8f8b-ac4f-4ad0-9047-35fa6b6cbbe5",
   "metadata": {},
   "source": [
    "$\\text{\\textbf{The Derivative of a Line:}}$\n",
    "\n",
    "Suppose $f(t) = s*t$ for any numbers $s,t_0$, then\n",
    "$$f'(t) = s.$$\n",
    "\n",
    "We can also write this using Leibniz notation,\n",
    "$$\\frac{df}{dt}(t) = s.$$\n",
    "\n",
    "Or the defintion of the derivative\n",
    "$$\\lim_{\\Delta t \\to 0} \\frac{f(t+\\Delta t) -f(t)}{\\Delta t} = s.$$"
   ]
  },
  {
   "cell_type": "code",
   "execution_count": null,
   "id": "3ec0686e-4beb-43cf-867e-24bbe35d6ca2",
   "metadata": {},
   "outputs": [],
   "source": [
    "#Example\n",
    "#Example\n",
    "import sympy as sp\n",
    "\n",
    "# Define the input variable\n",
    "t = sp.Symbol('t')\n",
    "\n",
    "# Define the function\n",
    "f = 5\n",
    "print(\"Function:\", f)\n",
    "# Turn the function into a Python function\n",
    "f_func = sp.lambdify(t, f, 'numpy')\n",
    "\n",
    "# Take the derivative\n",
    "f_prime = sp.diff(f, t)\n",
    "print(\"Derivative Function:\", f_prime)\n",
    "# Turn the derivative into a Python function\n",
    "f_prime_func = sp.lambdify(t, f_prime, 'numpy')\n",
    "\n",
    "#Plot it\n",
    "import matplotlib.pyplot as plt\n",
    "import numpy as np\n",
    "t_vals = np.linspace(-20, 20, 100)\n",
    "plt.plot(t_vals, np.full_like(t_vals, f_func(t_vals)), color=\"black\", label=\"f(t)\")\n",
    "plt.plot(t_vals, np.full_like(t_vals, f_prime_func(t_vals)), color=\"blue\", label=\"f'(t)\")\n",
    "plt.legend()\n",
    "plt.show()"
   ]
  }
 ],
 "metadata": {
  "kernelspec": {
   "display_name": "Python 3 (ipykernel)",
   "language": "python",
   "name": "python3"
  },
  "language_info": {
   "codemirror_mode": {
    "name": "ipython",
    "version": 3
   },
   "file_extension": ".py",
   "mimetype": "text/x-python",
   "name": "python",
   "nbconvert_exporter": "python",
   "pygments_lexer": "ipython3",
   "version": "3.9.6"
  }
 },
 "nbformat": 4,
 "nbformat_minor": 5
}
