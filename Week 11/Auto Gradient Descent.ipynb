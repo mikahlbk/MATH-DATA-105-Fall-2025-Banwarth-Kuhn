{
 "cells": [
  {
   "cell_type": "code",
   "execution_count": 1,
   "id": "da097da3-88a9-42dd-9373-be068c6e6e46",
   "metadata": {},
   "outputs": [
    {
     "name": "stdout",
     "output_type": "stream",
     "text": [
      "0.21661950835590632\n",
      "0.038804016176515216\n",
      "2.4947478055560204\n",
      "99571\n"
     ]
    }
   ],
   "source": [
    "import numpy as np\n",
    "#############################################################################################\n",
    "# make a function to do the dirty work for us\n",
    "# YOU NEED TO EDIT THE RETURN STATEMENT\n",
    "#############################################################################################\n",
    "def gradient_func_m1(m1,m2,b):\n",
    "    return 56.23848*b + 1962.68555472*m1 + 1218.017779304*m2 - 612.541052712 ######add the partial derivative here\n",
    "def gradient_func_m2(m1,m2,b):\n",
    "    return 47.78884*b + 1218.017779304*m1 + 1640.675144708*m2 - 446.932942272 ######add the partial derivative here\n",
    "def gradient_func_b(m1,m2,b):\n",
    "    return 2.0*b + 56.23848*m1 + 47.78884*m2 - 19.14584 ######add the partial derivative here\n",
    "#############################################################################################\n",
    "# choose parameters to test\n",
    "# YOU CHANGE\n",
    "#############################################################################################\n",
    "#choice of learning rate\n",
    "eta = .0000001\n",
    "#current m1 value\n",
    "m1_guess = .5\n",
    "#current m2 value\n",
    "m2_guess = .1\n",
    "#current b value\n",
    "b_guess = 2.5\n",
    "old_m1 = m1_guess\n",
    "old_m2 = m2_guess\n",
    "old_b = b_guess\n",
    "for step in range(1,100000,1):\n",
    "    next_m1 = old_m1-gradient_func_m1(old_m1,old_m2,old_b)*eta\n",
    "    next_m2 = old_m2-gradient_func_m2(old_m1,old_m2,old_b)*eta\n",
    "    next_b  = old_b-gradient_func_b(old_m1,old_m2,old_b)*eta\n",
    "    if (np.abs(gradient_func_m1(old_m1,old_m2,old_b))+np.abs(gradient_func_m2(old_m1,old_m2,old_b))+np.abs(gradient_func_b(old_m1,old_m2,old_b)))<.5:\n",
    "        print(next_m1)\n",
    "        print(next_m2)\n",
    "        print(next_b)\n",
    "        print(step)\n",
    "        break\n",
    "    old_b = next_b\n",
    "    old_m1 = next_m1\n",
    "    old_m2 = next_m2"
   ]
  },
  {
   "cell_type": "code",
   "execution_count": null,
   "id": "7b727d06-ea83-4d27-bca9-0b0699315ae0",
   "metadata": {},
   "outputs": [],
   "source": []
  }
 ],
 "metadata": {
  "kernelspec": {
   "display_name": "Python 3 (ipykernel)",
   "language": "python",
   "name": "python3"
  },
  "language_info": {
   "codemirror_mode": {
    "name": "ipython",
    "version": 3
   },
   "file_extension": ".py",
   "mimetype": "text/x-python",
   "name": "python",
   "nbconvert_exporter": "python",
   "pygments_lexer": "ipython3",
   "version": "3.9.6"
  }
 },
 "nbformat": 4,
 "nbformat_minor": 5
}
