{
 "cells": [
  {
   "cell_type": "code",
   "execution_count": null,
   "id": "da097da3-88a9-42dd-9373-be068c6e6e46",
   "metadata": {},
   "outputs": [],
   "source": []
  }
 ],
 "metadata": {
  "kernelspec": {
   "display_name": "",
   "name": ""
  },
  "language_info": {
   "name": ""
  }
 },
 "nbformat": 4,
 "nbformat_minor": 5
}
