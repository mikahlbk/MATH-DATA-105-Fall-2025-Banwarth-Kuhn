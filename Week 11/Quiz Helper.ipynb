{
 "cells": [
  {
   "cell_type": "markdown",
   "id": "4af51436-3803-4c55-816d-76115dc34738",
   "metadata": {},
   "source": [
    "$$ \\Huge{ \\text{Exercise 1}} $$"
   ]
  },
  {
   "cell_type": "markdown",
   "id": "06feb5b9-a6c0-4c60-acc5-414faf140235",
   "metadata": {},
   "source": [
    "$\\textbf{\\large{The next code cell finds the derivative of a function.}}$"
   ]
  },
  {
   "cell_type": "code",
   "execution_count": 47,
   "id": "16d041f9-4385-46fd-9f28-0de1b8d63464",
   "metadata": {},
   "outputs": [
    {
     "ename": "SyntaxError",
     "evalue": "invalid syntax (3287015843.py, line 15)",
     "output_type": "error",
     "traceback": [
      "\u001b[0;36m  Cell \u001b[0;32mIn[47], line 15\u001b[0;36m\u001b[0m\n\u001b[0;31m    f = ???\u001b[0m\n\u001b[0m        ^\u001b[0m\n\u001b[0;31mSyntaxError\u001b[0m\u001b[0;31m:\u001b[0m invalid syntax\n"
     ]
    }
   ],
   "source": [
    "#import packages\n",
    "import sympy as sp\n",
    "import numpy as np\n",
    "\n",
    "# Define the input variable\n",
    "###########################################\n",
    "#CHANGE THIS TO THE CORRECT INPUT VARIABLE\n",
    "###########################################\n",
    "??? = sp.Symbol('???')\n",
    "\n",
    "# Define the function\n",
    "###########################################\n",
    "#CHANGE THIS TO THE CORRECT FUNCTION\n",
    "###########################################\n",
    "f = ???\n",
    "print(\"Function:\", f)\n",
    "\n",
    "# Take the derivative\n",
    "###############################################################\n",
    "#CHANGE TO DIFFERENTIATE with respect to CORRECT INPUT VARIABLE\n",
    "###############################################################\n",
    "f_prime = sp.diff(f, ???)\n",
    "print(\"Derivative:\", f_prime)"
   ]
  },
  {
   "cell_type": "markdown",
   "id": "276328b0-3df3-49f5-b8cc-dc6260bd9282",
   "metadata": {},
   "source": [
    "$\\textbf{\\large{The next code cell finds the input values where the derivative function is equal to zero.}}$"
   ]
  },
  {
   "cell_type": "code",
   "execution_count": 48,
   "id": "529dcb1b-591e-401f-be0f-a7beb40a3b62",
   "metadata": {},
   "outputs": [
    {
     "ename": "SyntaxError",
     "evalue": "invalid syntax (269707960.py, line 15)",
     "output_type": "error",
     "traceback": [
      "\u001b[0;36m  Cell \u001b[0;32mIn[48], line 15\u001b[0;36m\u001b[0m\n\u001b[0;31m    equation = Eq(?derivative?,?what number do we set it equal to?)\u001b[0m\n\u001b[0m                  ^\u001b[0m\n\u001b[0;31mSyntaxError\u001b[0m\u001b[0;31m:\u001b[0m invalid syntax\n"
     ]
    }
   ],
   "source": [
    "#import packages\n",
    "from sympy import symbols, Eq, solve\n",
    "import numpy as np\n",
    "\n",
    "# define input variable\n",
    "###########################################\n",
    "#CHANGE THIS TO THE CORRECT INPUT VARIABLE\n",
    "###########################################\n",
    "??? = symbols('???')\n",
    "\n",
    "# define equation to solve\n",
    "######################################################################################################\n",
    "#CHANGE TO THE CORRECT DERIVATIVE FUNC and what should go on the right side of the equals f'(x) = ???\n",
    "######################################################################################################\n",
    "equation = Eq(?derivative?,?what number do we set it equal to?)\n",
    "\n",
    "# ask python to solve this equation\n",
    "###############################################\n",
    "#CHANGE TO SOLVE FOR THE CORRECT INPUT VARIABLE\n",
    "################################################\n",
    "solutions = solve(equation, ???)\n",
    "\n",
    "# print solution\n",
    "print(solutions)"
   ]
  },
  {
   "cell_type": "markdown",
   "id": "90f8b7ac-f793-4285-8e01-03265b9d2c6c",
   "metadata": {},
   "source": [
    "$\\textbf{\\large{Use the next code cell to evaluate the derivative function at the test points.}}$"
   ]
  },
  {
   "cell_type": "code",
   "execution_count": 50,
   "id": "efc2959a-1669-49a9-bd52-e71ba3dd8da7",
   "metadata": {},
   "outputs": [
    {
     "ename": "SyntaxError",
     "evalue": "invalid syntax (380103373.py, line 6)",
     "output_type": "error",
     "traceback": [
      "\u001b[0;36m  Cell \u001b[0;32mIn[50], line 6\u001b[0;36m\u001b[0m\n\u001b[0;31m    return ????\u001b[0m\n\u001b[0m           ^\u001b[0m\n\u001b[0;31mSyntaxError\u001b[0m\u001b[0;31m:\u001b[0m invalid syntax\n"
     ]
    }
   ],
   "source": [
    "# define a python function to evaluate the derivative \n",
    "##################################################\n",
    "#ADD THE CORRECT DERIVATIVE FUNCTION AFTER RETURN\n",
    "##################################################\n",
    "def derivative_func(x):\n",
    "    return ????\n",
    "\n",
    "##################################################\n",
    "#CHANGE THE VALUE OF THE TEST POINT\n",
    "##################################################\n",
    "test_pt = ???\n",
    "value = derivative_func(test_pt)\n",
    "print(value)"
   ]
  },
  {
   "cell_type": "markdown",
   "id": "7e45927e-30cb-4bef-9733-24b2af65e043",
   "metadata": {},
   "source": [
    "$$ \\Huge{ \\text{Exercise 2}} $$\n",
    "\n",
    "$\\textbf{\\large{2.a-Use the next code cell as a calculator.}}$"
   ]
  },
  {
   "cell_type": "code",
   "execution_count": null,
   "id": "4a96e20c-562a-4443-872a-18e4dc1bcf1f",
   "metadata": {},
   "outputs": [],
   "source": []
  },
  {
   "cell_type": "code",
   "execution_count": 55,
   "id": "eb2af6ce-8d36-4776-a8ac-280f624e9cc3",
   "metadata": {},
   "outputs": [
    {
     "ename": "SyntaxError",
     "evalue": "invalid syntax (4290286584.py, line 1)",
     "output_type": "error",
     "traceback": [
      "\u001b[0;36m  Cell \u001b[0;32mIn[55], line 1\u001b[0;36m\u001b[0m\n\u001b[0;31m    $\\textbf{\\large{2.b.ii-The next code cell simplifies the cost function.}}$\u001b[0m\n\u001b[0m    ^\u001b[0m\n\u001b[0;31mSyntaxError\u001b[0m\u001b[0;31m:\u001b[0m invalid syntax\n"
     ]
    }
   ],
   "source": [
    "$\\textbf{\\large{2.b.ii-The next code cell simplifies the cost function.}}$"
   ]
  },
  {
   "cell_type": "code",
   "execution_count": 51,
   "id": "10015339-4b9d-43b8-8197-46590f97c85a",
   "metadata": {},
   "outputs": [
    {
     "ename": "SyntaxError",
     "evalue": "invalid syntax (1154629483.py, line 15)",
     "output_type": "error",
     "traceback": [
      "\u001b[0;36m  Cell \u001b[0;32mIn[51], line 15\u001b[0;36m\u001b[0m\n\u001b[0;31m    expr = ???\u001b[0m\n\u001b[0m           ^\u001b[0m\n\u001b[0;31mSyntaxError\u001b[0m\u001b[0;31m:\u001b[0m invalid syntax\n"
     ]
    }
   ],
   "source": [
    "#import packages\n",
    "import sympy as sp\n",
    "import numpy as np\n",
    "\n",
    "# Define the input variable\n",
    "###########################################\n",
    "#CHANGE THIS TO THE CORRECT INPUT VARIABLE\n",
    "###########################################\n",
    "??? = sp.Symbol('???')\n",
    "\n",
    "#give the expression to simplify\n",
    "##############################################################\n",
    "#CHANGE THIS TO THE CORRECT EXPRESSION FOR THE COST FUNCTION\n",
    "############################################################\n",
    "expr = ???\n",
    "\n",
    "#have python simplify the expression for you\n",
    "###########################################\n",
    "#Dont Change\n",
    "###########################################\n",
    "print(\"Simplified:\", sp.simplify(expr))"
   ]
  },
  {
   "cell_type": "markdown",
   "id": "32db7070-1bda-409f-8dd2-7f61c8ef7c93",
   "metadata": {},
   "source": [
    "$\\textbf{\\large{2.b.iii-The next code cell finds the derivative of a function.}}$"
   ]
  },
  {
   "cell_type": "code",
   "execution_count": 52,
   "id": "dbaf94dd-0e94-4a69-be0a-5629faa342c1",
   "metadata": {},
   "outputs": [
    {
     "ename": "SyntaxError",
     "evalue": "invalid syntax (1417006418.py, line 15)",
     "output_type": "error",
     "traceback": [
      "\u001b[0;36m  Cell \u001b[0;32mIn[52], line 15\u001b[0;36m\u001b[0m\n\u001b[0;31m    f =???\u001b[0m\n\u001b[0m       ^\u001b[0m\n\u001b[0;31mSyntaxError\u001b[0m\u001b[0;31m:\u001b[0m invalid syntax\n"
     ]
    }
   ],
   "source": [
    "#import packages\n",
    "import sympy as sp\n",
    "import numpy as np\n",
    "\n",
    "# Define the input variable\n",
    "###########################################\n",
    "#CHANGE THIS TO THE CORRECT INPUT VARIABLE\n",
    "###########################################\n",
    "??? = sp.Symbol('???')\n",
    "\n",
    "# Define the function\n",
    "###########################################\n",
    "#CHANGE THIS TO THE CORRECT FUNCTION\n",
    "###########################################\n",
    "f =???\n",
    "print(\"Function:\", f)\n",
    "\n",
    "# Take the derivative\n",
    "###############################################################\n",
    "#CHANGE TO DIFFERENTIATE with respect to CORRECT INPUT VARIABLE\n",
    "###############################################################\n",
    "f_prime = sp.diff(f, ???)\n",
    "print(\"Derivative:\", f_prime)"
   ]
  },
  {
   "cell_type": "markdown",
   "id": "f48fc482-5242-4a6a-be50-1dda9aae6632",
   "metadata": {},
   "source": [
    "$\\textbf{\\large{2.b.iv-The next code cell is set up to carry out gradient descent.}}$"
   ]
  },
  {
   "cell_type": "code",
   "execution_count": 53,
   "id": "d01384dc-99bc-42f6-9d4f-c4b8e5596973",
   "metadata": {},
   "outputs": [
    {
     "ename": "SyntaxError",
     "evalue": "invalid syntax (1501964961.py, line 22)",
     "output_type": "error",
     "traceback": [
      "\u001b[0;36m  Cell \u001b[0;32mIn[53], line 22\u001b[0;36m\u001b[0m\n\u001b[0;31m    return ???\u001b[0m\n\u001b[0m           ^\u001b[0m\n\u001b[0;31mSyntaxError\u001b[0m\u001b[0;31m:\u001b[0m invalid syntax\n"
     ]
    }
   ],
   "source": [
    "# ------------------------------------------------\n",
    "# Observed data: Training Hours vs. Satisfaction\n",
    "# DO NOT CHANGE\n",
    "# -----------------------------------------------\n",
    "training = np.array([2,6,10])\n",
    "satistfaction = np.array([5.1,7.8,9.1])\n",
    "\n",
    "# ---------------------------------------------\n",
    "# Define Python Function for Cost\n",
    "# DO NOT CHANGE\n",
    "# ---------------------------------------------\n",
    "# make a function to compute the MSE\n",
    "def cost_func(m,input_vals,output_vals):\n",
    "    return (1/len(output_vals))*np.sum((output_vals-m*input_vals)**2)\n",
    "\n",
    "# ---------------------------------------------\n",
    "# Define Python Function for Computing Gradient\n",
    "# ADD THE CORRECT DERIVATIVE FUNCTION AFTER RETURN\n",
    "# ---------------------------------------------\n",
    "#make a function to compute the gradient at each choice of m\n",
    "def gradient_func(m):\n",
    "    return ???\n",
    "\n",
    "# ---------------------------------------------\n",
    "# YOU set the learning rate\n",
    "# CHANGE ONCE\n",
    "# ---------------------------------------------\n",
    "eta = ???\n",
    "# ------------------------------------------------------------------------\n",
    "# YOU change curr_m to carry out gradient descent, start with curr_m = m_0\n",
    "# CHANGE MANY TIMES\n",
    "# -------------------------------------------------------------------------\n",
    "curr_m = ???\n",
    "# ------------------------------------------------------------------------\n",
    "# Dont change antyhing below here, just read the output\n",
    "# -------------------------------------------------------------------------\n",
    "#compute the cost for a given choice of m \n",
    "curr_cost = cost_func(curr_m,dollars_spent,sales_revenue)\n",
    "#print the result\n",
    "print(\"The cost for m = {} is {}.\".format(curr_m,curr_cost))\n",
    "#gradient at curr_m\n",
    "gradient = gradient_func(curr_m)\n",
    "print(\"The gradient at m = {} is {}.\".format(curr_m,gradient))\n",
    "#next m\n",
    "next_m = curr_m-(gradient*eta)\n",
    "print(\"The next guess for the slope is {}.\".format(next_m))"
   ]
  }
 ],
 "metadata": {
  "kernelspec": {
   "display_name": "Python 3 (ipykernel)",
   "language": "python",
   "name": "python3"
  },
  "language_info": {
   "codemirror_mode": {
    "name": "ipython",
    "version": 3
   },
   "file_extension": ".py",
   "mimetype": "text/x-python",
   "name": "python",
   "nbconvert_exporter": "python",
   "pygments_lexer": "ipython3",
   "version": "3.9.6"
  }
 },
 "nbformat": 4,
 "nbformat_minor": 5
}
