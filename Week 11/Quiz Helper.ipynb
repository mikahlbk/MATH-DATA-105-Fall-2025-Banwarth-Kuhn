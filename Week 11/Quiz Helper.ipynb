{
 "cells": [
  {
   "cell_type": "markdown",
   "id": "4af51436-3803-4c55-816d-76115dc34738",
   "metadata": {},
   "source": [
    "$$ \\Huge{ \\text{Exercise 1}} $$"
   ]
  },
  {
   "cell_type": "markdown",
   "id": "06feb5b9-a6c0-4c60-acc5-414faf140235",
   "metadata": {},
   "source": [
    "$\\textbf{\\large{The next code cell finds the derivative of a function.}}$"
   ]
  },
  {
   "cell_type": "code",
   "execution_count": 18,
   "id": "16d041f9-4385-46fd-9f28-0de1b8d63464",
   "metadata": {},
   "outputs": [
    {
     "name": "stdout",
     "output_type": "stream",
     "text": [
      "Function: (x**3 - 1.5*x - 2)/(0.5*x**4 - x**2 + 1)\n",
      "Derivative: (3*x**2 - 1.5)/(0.5*x**4 - x**2 + 1) + (-2.0*x**3 + 2*x)*(x**3 - 1.5*x - 2)/(0.5*x**4 - x**2 + 1)**2\n"
     ]
    }
   ],
   "source": [
    "#import packages\n",
    "import sympy as sp\n",
    "import numpy as np\n",
    "\n",
    "# Define the input variable\n",
    "###########################################\n",
    "#CHANGE THIS TO THE CORRECT INPUT VARIABLE\n",
    "###########################################\n",
    "x = sp.Symbol('x')\n",
    "\n",
    "# Define the function\n",
    "###########################################\n",
    "#CHANGE THIS TO THE CORRECT FUNCTION\n",
    "###########################################\n",
    "f = (x**3-1.5*x-2)/(.5*x**4-x**2+1)\n",
    "print(\"Function:\", f)\n",
    "\n",
    "# Take the derivative\n",
    "###############################################################\n",
    "#CHANGE TO DIFFERENTIATE with respect to CORRECT INPUT VARIABLE\n",
    "###############################################################\n",
    "f_prime = sp.diff(f, x)\n",
    "print(\"Derivative:\", f_prime)"
   ]
  },
  {
   "cell_type": "markdown",
   "id": "276328b0-3df3-49f5-b8cc-dc6260bd9282",
   "metadata": {},
   "source": [
    "$\\textbf{\\large{The next code cell finds the input values where the derivative function is equal to zero.}}$"
   ]
  },
  {
   "cell_type": "code",
   "execution_count": 25,
   "id": "529dcb1b-591e-401f-be0f-a7beb40a3b62",
   "metadata": {},
   "outputs": [
    {
     "name": "stdout",
     "output_type": "stream",
     "text": [
      "[-1.15433380293687, -0.368681343227732, 0.938349432622117, 2.38693383885589, -0.901134062656705 - 1.5281443760301*I, -0.901134062656705 + 1.5281443760301*I]\n"
     ]
    }
   ],
   "source": [
    "#import packages\n",
    "from sympy import symbols, Eq, solve\n",
    "import numpy as np\n",
    "\n",
    "# define input variable\n",
    "###########################################\n",
    "#CHANGE THIS TO THE CORRECT INPUT VARIABLE\n",
    "###########################################\n",
    "x = symbols('x')\n",
    "\n",
    "# define equation to solve\n",
    "######################################################################################################\n",
    "#CHANGE TO THE CORRECT DERIVATIVE FUNC and what should go on the right side of the equals f'(x) = ???\n",
    "######################################################################################################\n",
    "equation = Eq((3*x**2 - 1.5)/(0.5*x**4 - x**2 + 1) + (-2.0*x**3 + 2*x)*(x**3 - 1.5*x - 2)/(0.5*x**4 - x**2 + 1)**2, 0)\n",
    "\n",
    "# ask python to solve this equation\n",
    "###############################################\n",
    "#CHANGE TO SOLVE FOR THE CORRECT INPUT VARIABLE\n",
    "################################################\n",
    "solutions = solve(equation, x)\n",
    "\n",
    "# print solution\n",
    "print(solutions)"
   ]
  },
  {
   "cell_type": "markdown",
   "id": "90f8b7ac-f793-4285-8e01-03265b9d2c6c",
   "metadata": {},
   "source": [
    "$\\textbf{\\large{Use the next code cell to evaluate the derivative function at the test points.}}$"
   ]
  },
  {
   "cell_type": "code",
   "execution_count": 26,
   "id": "efc2959a-1669-49a9-bd52-e71ba3dd8da7",
   "metadata": {},
   "outputs": [
    {
     "name": "stdout",
     "output_type": "stream",
     "text": [
      "-0.14698224852071007\n"
     ]
    }
   ],
   "source": [
    "# define a python function to evaluate the derivative \n",
    "##################################################\n",
    "#ADD THE CORRECT DERIVATIVE FUNCTION AFTER RETURN\n",
    "##################################################\n",
    "def derivative_func(x):\n",
    "    return (3*x**2 - 1.5)/(0.5*x**4 - x**2 + 1) + (-2.0*x**3 + 2*x)*(x**3 - 1.5*x - 2)/(0.5*x**4 - x**2 + 1)**2\n",
    "\n",
    "##################################################\n",
    "#CHANGE THE VALUE OF THE TEST POINT\n",
    "##################################################\n",
    "test_pt = 3\n",
    "value = derivative_func(test_pt)\n",
    "print(value)"
   ]
  },
  {
   "cell_type": "markdown",
   "id": "7e45927e-30cb-4bef-9733-24b2af65e043",
   "metadata": {},
   "source": [
    "$$ \\Huge{ \\text{Exercise 2}} $$\n",
    "\n",
    "$\\textbf{\\large{2.b.ii-The next code cell simplifies the cost function.}}$"
   ]
  },
  {
   "cell_type": "code",
   "execution_count": 32,
   "id": "10015339-4b9d-43b8-8197-46590f97c85a",
   "metadata": {},
   "outputs": [
    {
     "name": "stdout",
     "output_type": "stream",
     "text": [
      "Simplified: 46.6666666666667*m**2 - 98.6666666666667*m + 56.5533333333333\n"
     ]
    }
   ],
   "source": [
    "#import packages\n",
    "import sympy as sp\n",
    "import numpy as np\n",
    "\n",
    "# Define the input variable\n",
    "###########################################\n",
    "#CHANGE THIS TO THE CORRECT INPUT VARIABLE\n",
    "###########################################\n",
    "m = sp.Symbol('m')\n",
    "\n",
    "#give the expression to simplify\n",
    "##############################################################\n",
    "#CHANGE THIS TO THE CORRECT EXPRESSION FOR THE COST FUNCTION\n",
    "############################################################\n",
    "expr = (1/3)*((5.1-m*2)**2+(7.8-m*6)**2+(9.1-m*10)**2)\n",
    "\n",
    "#have python simplify the expression for you\n",
    "###########################################\n",
    "#Dont Change\n",
    "###########################################\n",
    "print(\"Simplified:\", sp.simplify(expr))"
   ]
  },
  {
   "cell_type": "markdown",
   "id": "32db7070-1bda-409f-8dd2-7f61c8ef7c93",
   "metadata": {},
   "source": [
    "$\\textbf{\\large{2.b.iii-The next code cell finds the derivative of a function.}}$"
   ]
  },
  {
   "cell_type": "code",
   "execution_count": 33,
   "id": "dbaf94dd-0e94-4a69-be0a-5629faa342c1",
   "metadata": {},
   "outputs": [
    {
     "name": "stdout",
     "output_type": "stream",
     "text": [
      "Function: 46.6666666666667*m**2 - 98.6666666666667*m + 56.5533333333333\n",
      "Derivative: 93.3333333333334*m - 98.6666666666667\n"
     ]
    }
   ],
   "source": [
    "#import packages\n",
    "import sympy as sp\n",
    "import numpy as np\n",
    "\n",
    "# Define the input variable\n",
    "###########################################\n",
    "#CHANGE THIS TO THE CORRECT INPUT VARIABLE\n",
    "###########################################\n",
    "m = sp.Symbol('m')\n",
    "\n",
    "# Define the function\n",
    "###########################################\n",
    "#CHANGE THIS TO THE CORRECT FUNCTION\n",
    "###########################################\n",
    "f = 46.6666666666667*m**2 - 98.6666666666667*m + 56.5533333333333\n",
    "print(\"Function:\", f)\n",
    "\n",
    "# Take the derivative\n",
    "###############################################################\n",
    "#CHANGE TO DIFFERENTIATE with respect to CORRECT INPUT VARIABLE\n",
    "###############################################################\n",
    "f_prime = sp.diff(f, m)\n",
    "print(\"Derivative:\", f_prime)"
   ]
  },
  {
   "cell_type": "markdown",
   "id": "f48fc482-5242-4a6a-be50-1dda9aae6632",
   "metadata": {},
   "source": [
    "$\\textbf{\\large{2.b.iv-The next code cell is set up to carry out gradient descent.}}$"
   ]
  },
  {
   "cell_type": "code",
   "execution_count": 46,
   "id": "d01384dc-99bc-42f6-9d4f-c4b8e5596973",
   "metadata": {},
   "outputs": [
    {
     "name": "stdout",
     "output_type": "stream",
     "text": [
      "The cost for m = 1.0557777777777775 is 4.401039341563784.\n",
      "The gradient at m = 1.0557777777777775 is -0.12740740740740364.\n",
      "The next guess for the slope is 1.0570518518518515.\n"
     ]
    }
   ],
   "source": [
    "# ------------------------------------------------\n",
    "# Observed data: Training Hours vs. Satisfaction\n",
    "# DO NOT CHANGE\n",
    "# -----------------------------------------------\n",
    "dollars_spent = np.array([2,6,10])\n",
    "sales_revenue = np.array([5.1,7.8,9.1])\n",
    "\n",
    "# ---------------------------------------------\n",
    "# Define Python Function for Cost\n",
    "# DO NOT CHANGE\n",
    "# ---------------------------------------------\n",
    "# make a function to compute the MSE\n",
    "def cost_func(m,input_vals,output_vals):\n",
    "    return (1/len(output_vals))*np.sum((output_vals-m*input_vals)**2)\n",
    "\n",
    "# ---------------------------------------------\n",
    "# Define Python Function for Computing Gradient\n",
    "# ADD THE CORRECT DERIVATIVE FUNCTION AFTER RETURN\n",
    "# ---------------------------------------------\n",
    "#make a function to compute the gradient at each choice of m\n",
    "def gradient_func(m):\n",
    "    return 93.3333333333334*m - 98.6666666666667\n",
    "\n",
    "# ---------------------------------------------\n",
    "# YOU set the learning rate\n",
    "# CHANGE ONCE\n",
    "# ---------------------------------------------\n",
    "eta = .01\n",
    "# ------------------------------------------------------------------------\n",
    "# YOU change curr_m to carry out gradient descent, start with curr_m = m_0\n",
    "# CHANGE MANY TIMES\n",
    "# -------------------------------------------------------------------------\n",
    "curr_m = 1.0557777777777775\n",
    "# ------------------------------------------------------------------------\n",
    "# Dont change antyhing below here, just read the output\n",
    "# -------------------------------------------------------------------------\n",
    "#compute the cost for a given choice of m \n",
    "curr_cost = cost_func(curr_m,dollars_spent,sales_revenue)\n",
    "#print the result\n",
    "print(\"The cost for m = {} is {}.\".format(curr_m,curr_cost))\n",
    "#gradient at curr_m\n",
    "gradient = gradient_func(curr_m)\n",
    "print(\"The gradient at m = {} is {}.\".format(curr_m,gradient))\n",
    "#next m\n",
    "next_m = curr_m-(gradient*eta)\n",
    "print(\"The next guess for the slope is {}.\".format(next_m))"
   ]
  },
  {
   "cell_type": "code",
   "execution_count": null,
   "id": "a9801550-eda8-4299-b8db-3c2100a7c400",
   "metadata": {},
   "outputs": [],
   "source": []
  }
 ],
 "metadata": {
  "kernelspec": {
   "display_name": "Python 3 (ipykernel)",
   "language": "python",
   "name": "python3"
  },
  "language_info": {
   "codemirror_mode": {
    "name": "ipython",
    "version": 3
   },
   "file_extension": ".py",
   "mimetype": "text/x-python",
   "name": "python",
   "nbconvert_exporter": "python",
   "pygments_lexer": "ipython3",
   "version": "3.9.6"
  }
 },
 "nbformat": 4,
 "nbformat_minor": 5
}
