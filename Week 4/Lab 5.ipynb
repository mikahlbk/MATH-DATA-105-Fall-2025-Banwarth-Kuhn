{
 "cells": [
  {
   "cell_type": "markdown",
   "id": "da3cef4e-aa3a-467c-84e1-8086370f2c48",
   "metadata": {},
   "source": [
    "Together we came up with a change formula to describe how the feral cat population on CSUEB's campus changes\n",
    "\n",
    "$$N' = k_{\\text{birth}}*N - k_{\\text{death}}*N - c_{\\text{catch and release}}.$$\n",
    "\n",
    "In Exercise 2.3.7 on Page 25 of the Guided Notes we are told to assume $k_{\\text{birth}}  = 0.25, k_{\\text{death}} = 0.15, c_{\\text{catch and release}} = 0$. So we have the change formula\n",
    "\n",
    "$$\n",
    "\\begin{align*}\n",
    "N' &= 0.25*N - 0.15*N - 0 \\\\\n",
    "   &= .10*N\n",
    "\\end{align*}\n",
    "$$\n",
    "\n",
    "Now we'll use the code below to visualise a key idea of this course: \n",
    "\n",
    "<p style=\"text-align: center;\">\n",
    "<b>The change formula tells us how to compute the slope of the change arrow corresponding to every output value.</b>\n",
    "</p>\n",
    "\n",
    "\n",
    "In other words for our feral cat scenario, the change formula $N' = .1*N$, says that if we are at a given ouput value $N(t)$, then we are changing at a rate $.1*N(t)$. The change formula is a function that takes in the output values $N$, and assigns them a change arrow with a certain slope."
   ]
  },
  {
   "cell_type": "code",
   "execution_count": 63,
   "id": "30fcd4c8-829c-4a80-890a-fa25baa3f994",
   "metadata": {},
   "outputs": [
    {
     "data": {
      "image/png": "[encoded data removed]",
      "text/plain": [
       "<Figure size 600x400 with 1 Axes>"
      ]
     },
     "metadata": {},
     "output_type": "display_data"
    }
   ],
   "source": [
    "import numpy as np\n",
    "import matplotlib.pyplot as plt\n",
    "\n",
    "#this function computes the change, i.e. slope using the change formula P'\n",
    "def compute_slope(P):\n",
    "    #returns P' = kP\n",
    "    k = .1\n",
    "    return k * P\n",
    "    \n",
    "#this function draws the change arrow using the slope\n",
    "def add_vector(t, P, delta_t,color):\n",
    "    P_prime = compute_slope(80)\n",
    "    plt.quiver(t, P, delta_t, P_prime * delta_t, angles='xy', scale_units='xy', scale=1, color=color)\n",
    "\n",
    "# --- Make the axes where we will plot the change arrows --- #\n",
    "plt.figure(figsize=(6, 4))\n",
    "plt.axhline(0, color='gray', linewidth=0.5)\n",
    "plt.axvline(0, color='gray', linewidth=0.5)\n",
    "plt.xlabel(\"t\")\n",
    "plt.ylabel(\"P\")\n",
    "plt.grid(True)\n",
    "plt.xlim(0, 10)\n",
    "plt.xticks(np.arange(0,11,1))\n",
    "plt.ylim(0, 100)\n",
    "\n",
    "# --- Plot output values and their change arrows --- #\n",
    "\n",
    "###first define the parameter k###\n",
    "k = .1\n",
    "\n",
    "###second choose a time interval###\n",
    "delta_t = 2\n",
    "\n",
    "###third choose an initial population###\n",
    "init_pop = 20\n",
    "\n",
    "###plot a point at the intial population###\n",
    "\n",
    "#here is the blueprint: plt.plot(t inputvalue ,N(t) ouput value,marker = 'o', color = 'black')\n",
    "plt.plot(0,init_pop,marker = 'o', color = 'black')\n",
    "\n",
    "###compute the change at the current output value###\n",
    "#here is the blueprint: P_prime = compute_slope(N(t) output value)\n",
    "\n",
    "P_prime = compute_slope(init_pop)\n",
    "\n",
    "###add the change arrow corresponding to the current output value###\n",
    "#here is the blueprint: add_vector(time value,population value,delta_t,color)\n",
    "plt.quiver(0,init_pop, delta_t, P_prime * delta_t, angles='xy', scale_units='xy', scale=1, color=\"blue\")\n",
    "\n",
    "\n",
    "\n",
    "\n",
    "###keep this here to show change arrows and ouput values###\n",
    "plt.show()"
   ]
  },
  {
   "cell_type": "code",
   "execution_count": null,
   "id": "f8d618a7-bb5e-4b24-b919-89c0f9128d23",
   "metadata": {},
   "outputs": [],
   "source": []
  }
 ],
 "metadata": {
  "kernelspec": {
   "display_name": "Python 3 (ipykernel)",
   "language": "python",
   "name": "python3"
  },
  "language_info": {
   "codemirror_mode": {
    "name": "ipython",
    "version": 3
   },
   "file_extension": ".py",
   "mimetype": "text/x-python",
   "name": "python",
   "nbconvert_exporter": "python",
   "pygments_lexer": "ipython3",
   "version": "3.9.6"
  }
 },
 "nbformat": 4,
 "nbformat_minor": 5
}
