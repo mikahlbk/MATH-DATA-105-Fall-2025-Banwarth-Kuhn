{
 "cells": [
  {
   "cell_type": "code",
   "execution_count": 1,
   "id": "698e23e5-a49e-4278-bf2b-66e04919195e",
   "metadata": {},
   "outputs": [
    {
     "data": {
      "application/vnd.jupyter.widget-view+json": {
       "model_id": "b074ee2c36c74f53848a310377400995",
       "version_major": 2,
       "version_minor": 0
      },
      "text/plain": [
       "interactive(children=(FloatSlider(value=10.0, description='Width', max=50.0, step=0.5), Output()), _dom_classe…"
      ]
     },
     "metadata": {},
     "output_type": "display_data"
    },
    {
     "data": {
      "text/plain": [
       "<function __main__.rectangle_area(w)>"
      ]
     },
     "execution_count": 1,
     "metadata": {},
     "output_type": "execute_result"
    }
   ],
   "source": [
    "import matplotlib.pyplot as plt\n",
    "import numpy as np\n",
    "from ipywidgets import interact, FloatSlider\n",
    "\n",
    "# Fixed perimeter: Perimeter = 2*w + 2*l\n",
    "P = 100\n",
    "\n",
    "def rectangle_area(w):\n",
    "    l = 50 - w  # from 100 = 2w + 2l\n",
    "    #Area = width*length\n",
    "    A = w * l\n",
    "\n",
    "    # Set up a plot\n",
    "    fig, ax = plt.subplots(1, 2, figsize=(10, 4))\n",
    "\n",
    "    # Left Graph: rectangle visualization\n",
    "    ax[0].plot([0, w, w, 0, 0], [0, 0, l, l, 0], 'b-', lw=2)\n",
    "    ax[0].set_xlim(0, 60)\n",
    "    ax[0].set_ylim(0, 60)\n",
    "    ax[0].set_aspect('equal', adjustable='box')\n",
    "    ax[0].set_title(f\"Rectangle: w={w:.1f}, l={l:.1f}\")\n",
    "    ax[0].set_xlabel(\"Width\")\n",
    "    ax[0].set_ylabel(\"Height\")\n",
    "    ax[0].grid(True)\n",
    "\n",
    "    # Right Graph: area function\n",
    "    ws = np.linspace(0, 50, 200)\n",
    "    As = ws * (50 - ws)\n",
    "    ax[1].plot(ws, As, label=r\"$A(w) = w(50 - w) = 50w - w^2$\")\n",
    "    ax[1].axvline(w, color='r', linestyle='--', label=f\"w = {w:.1f}\")\n",
    "    ax[1].set_xlabel(\"Width\")\n",
    "    ax[1].set_ylabel(\"Area\")\n",
    "    ax[1].set_title(f\"Area = {A:.1f} m²\")\n",
    "    ax[1].legend()\n",
    "    ax[1].grid(True)\n",
    "\n",
    "    plt.tight_layout()\n",
    "    plt.show()\n",
    "\n",
    "# Interactive slider for x\n",
    "interact(rectangle_area, w=FloatSlider(value=10, min=0, max=50, step=0.5, description='Width'))\n"
   ]
  }
 ],
 "metadata": {
  "kernelspec": {
   "display_name": "Python 3 (ipykernel)",
   "language": "python",
   "name": "python3"
  },
  "language_info": {
   "codemirror_mode": {
    "name": "ipython",
    "version": 3
   },
   "file_extension": ".py",
   "mimetype": "text/x-python",
   "name": "python",
   "nbconvert_exporter": "python",
   "pygments_lexer": "ipython3",
   "version": "3.9.6"
  }
 },
 "nbformat": 4,
 "nbformat_minor": 5
}
