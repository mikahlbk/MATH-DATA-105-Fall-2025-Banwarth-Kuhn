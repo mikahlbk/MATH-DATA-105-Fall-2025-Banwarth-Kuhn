{
 "cells": [
  {
   "cell_type": "markdown",
   "id": "e5a35a56-77a9-4f80-85a2-d6577136af4d",
   "metadata": {},
   "source": [
    "$$\\Huge{\\text{Finding the Minumums and Maximums of Functions Using Derivatives}}$$"
   ]
  },
  {
   "cell_type": "markdown",
   "id": "e7ee8df5-2777-4331-b9b7-da2290a59cd1",
   "metadata": {},
   "source": [
    "**Exercise 1.** Let $f(t) = t^2$. Find the critical points (if any).\n",
    "\n",
    "**Step 1**. Take the derivative: $f'(t) = 2t$.\n",
    "\n",
    "**Step 2**. Set $f'(t) = 2t =  0$ and solve for the values of $t$ that make the equation true."
   ]
  },
  {
   "cell_type": "code",
   "execution_count": 35,
   "id": "2e879867-a495-4bef-90cf-90dde2613694",
   "metadata": {},
   "outputs": [
    {
     "name": "stdout",
     "output_type": "stream",
     "text": [
      "[0]\n"
     ]
    }
   ],
   "source": [
    "from sympy import symbols, Eq, solve\n",
    "\n",
    "# define input variable\n",
    "t = symbols('t')\n",
    "# set equation to solve\n",
    "equation = Eq(2*t, 0)  #2t = 0\n",
    "# ask python to solve\n",
    "solutions = solve(equation, t)\n",
    "# print solution\n",
    "print(solutions)"
   ]
  },
  {
   "cell_type": "markdown",
   "id": "cff28b33-75c5-4c40-a333-fd789e37123a",
   "metadata": {},
   "source": [
    "The equation $2t = 0$, has one value of $t$ that makes it true, $t = 0$.\n",
    "\n",
    "This means $t=0$ is a critical point (i.e. either a minumum or maximum- or something else- happens at that input value).\n",
    "\n",
    "**Step 3**. Determine if there is a minumum or maximum (or something else) at the input value $t=0$.\n",
    "\n",
    "To determine whether a minumum or maximum occurs at $t=0$, we should test points on either side of the input value."
   ]
  },
  {
   "cell_type": "code",
   "execution_count": 36,
   "id": "0708fadc-a8f0-4ba6-8c74-1f65956630ba",
   "metadata": {},
   "outputs": [
    {
     "name": "stdout",
     "output_type": "stream",
     "text": [
      "The derivative is equal to -2, on the left_side of t = 0\n",
      "The derivative is equal to 2, on the right_side of t = 0\n"
     ]
    }
   ],
   "source": [
    "def derivative_func(t):\n",
    "    return 2*t\n",
    "left_side = derivative_func(-1)\n",
    "print(\"The derivative is equal to {}, on the left_side of t = 0\".format(left_side))\n",
    "right_side = derivative_func(1)\n",
    "print(\"The derivative is equal to {}, on the right_side of t = 0\".format(right_side))"
   ]
  },
  {
   "cell_type": "markdown",
   "id": "d65a9e4d-66a9-44eb-b9e4-e87d83c2c2f6",
   "metadata": {},
   "source": [
    "Since the derivative is negative on the left side of zero, and positive on the right side of 0, we know this is a minimum."
   ]
  },
  {
   "cell_type": "markdown",
   "id": "1165c45f-12a0-4716-b499-a0b70f48aa4e",
   "metadata": {},
   "source": [
    "**Exercise 2.** Let $f(t) = t^4-4t^2+1$. Find the critical points (if any).\n",
    "\n",
    "**Step 1**. Take the derivative: $f'(t) = 4t^3-8t$.\n",
    "\n",
    "**Step 2**. Set $f'(t) = 4t^3-8t =  0$ and solve for the values of $t$ that make the equation true."
   ]
  },
  {
   "cell_type": "code",
   "execution_count": 37,
   "id": "da9f76bc-6a43-46b8-8017-570db88f23f8",
   "metadata": {},
   "outputs": [
    {
     "name": "stdout",
     "output_type": "stream",
     "text": [
      "[0]\n"
     ]
    }
   ],
   "source": [
    "from sympy import symbols, Eq, solve\n",
    "\n",
    "# define input variable\n",
    "t = symbols('t')\n",
    "# set equation to solve\n",
    "#let's fill in the rest of this code together\n",
    "#equation = Eq(???, ???)  #4t^3-8t^2 = 0\n",
    "# ask python to solve\n",
    "solutions = solve(equation, t)\n",
    "# print solution\n",
    "print(solutions)"
   ]
  },
  {
   "cell_type": "markdown",
   "id": "d560083b-5211-4015-825e-10a99ec6378d",
   "metadata": {},
   "source": [
    "The equation $4t^3-8t = 0$, has ??? value(s) of $t$ that makes it true, $t = ???$.\n",
    "\n",
    "This means $t=???$ are a critical points (i.e. either a minumum or maximum- or something else- happens at those input values).\n",
    "\n",
    "**Step 3**. Determine if there is a minumum or maximum (or something else) at each of the input values $t=???$.\n",
    "\n",
    "To determine whether a minumum or maximum occurs at $t=???$, we should test points on either side of each input value."
   ]
  },
  {
   "cell_type": "code",
   "execution_count": 38,
   "id": "dc8a9078-6e4f-46c7-951a-b22b38dc9e15",
   "metadata": {},
   "outputs": [],
   "source": [
    "#let's fill in the rest of this code together\n",
    "#def derivative_func(t):\n",
    "    #return ???"
   ]
  },
  {
   "cell_type": "markdown",
   "id": "460d1c49-9630-47a9-bf47-65621ffc8413",
   "metadata": {},
   "source": [
    "**Exercise 3.** Let $f(t) = e^{-2t}$. Find the critical points (if any).\n",
    "\n",
    "**Step 1**. Take the derivative:"
   ]
  },
  {
   "cell_type": "code",
   "execution_count": 39,
   "id": "4a7bb450-58f8-46c4-a2de-b3518a9c4872",
   "metadata": {},
   "outputs": [
    {
     "name": "stdout",
     "output_type": "stream",
     "text": [
      "Function: exp(-2*t)\n",
      "Derivative Function: -2*exp(-2*t)\n"
     ]
    }
   ],
   "source": [
    "#Let's say you forgot how to do this by hand.\n",
    "import sympy as sp\n",
    "import numpy as np\n",
    "\n",
    "# Define the input variable\n",
    "t = sp.Symbol('t')\n",
    "\n",
    "# Define the function\n",
    "f = sp.exp(-2*t)\n",
    "print(\"Function:\", f)\n",
    "\n",
    "# Take the derivative\n",
    "f_prime = sp.diff(f, t)\n",
    "print(\"Derivative Function:\", f_prime)"
   ]
  },
  {
   "cell_type": "markdown",
   "id": "08a4e3e1-c0a4-47a1-9167-7c93e2b75a8b",
   "metadata": {},
   "source": [
    "Python helped us remember that $f'(t) = -2e^{-2t}$.\n",
    "\n",
    "**Step 2**. Set $f'(t) = -2e^{-2t} =  0$ and solve for the values of $t$ that make the equation true."
   ]
  },
  {
   "cell_type": "code",
   "execution_count": 34,
   "id": "04061138-177c-4028-aab8-c231c775e17b",
   "metadata": {},
   "outputs": [
    {
     "name": "stdout",
     "output_type": "stream",
     "text": [
      "[]\n"
     ]
    }
   ],
   "source": [
    "from sympy import symbols, Eq, solve\n",
    "\n",
    "# define input variable\n",
    "t = symbols('t')\n",
    "# set equation to solve\n",
    "#let's fill in the rest of this code together\n",
    "equation = Eq(sp.exp(-2*t), 0)  #-2e^(-2t) = 0\n",
    "# ask python to solve\n",
    "solutions = solve(equation, t)\n",
    "# print solution\n",
    "print(solutions)"
   ]
  },
  {
   "cell_type": "markdown",
   "id": "05d9e50e-bbe4-4160-85fd-7db34d93ddd6",
   "metadata": {},
   "source": [
    "**No solutions means no critical points!**"
   ]
  },
  {
   "cell_type": "markdown",
   "id": "e8407810-8b92-4efa-86b4-82ffac8629be",
   "metadata": {},
   "source": [
    "Suppose MBK has $100$ feet of chicken wire. She wants to fence off the largest area possible for her chickens, Silky, LaLa, and Angie. What should the width and length of the fenced area be? \n",
    "\n",
    "Things to brainstorm:\n",
    "Write a general explanation of the steps you would take to answer the question. \n",
    "\n",
    "For example, what quantity are we trying to maximize? \n",
    "\n",
    "Maybe you don't know the function representing this quantity exactly, but if you did, what would you do with it?"
   ]
  },
  {
   "cell_type": "code",
   "execution_count": 48,
   "id": "698e23e5-a49e-4278-bf2b-66e04919195e",
   "metadata": {},
   "outputs": [
    {
     "data": {
      "application/vnd.jupyter.widget-view+json": {
       "model_id": "06954a660416484a827d038d7ac236e8",
       "version_major": 2,
       "version_minor": 0
      },
      "text/plain": [
       "interactive(children=(FloatSlider(value=10.0, description='Width', max=50.0, step=0.5), Output()), _dom_classe…"
      ]
     },
     "metadata": {},
     "output_type": "display_data"
    },
    {
     "data": {
      "text/plain": [
       "<function __main__.rectangle_area(w)>"
      ]
     },
     "execution_count": 48,
     "metadata": {},
     "output_type": "execute_result"
    }
   ],
   "source": [
    "import matplotlib.pyplot as plt\n",
    "import numpy as np\n",
    "from ipywidgets import interact, FloatSlider\n",
    "\n",
    "# Fixed perimeter: Perimeter = 2*w + 2*l\n",
    "P = 100\n",
    "\n",
    "def rectangle_area(w):\n",
    "    #from 100 = 2w + 2l\n",
    "    #Area = width*length\n",
    "    A = w * l\n",
    "\n",
    "    # Set up a plot\n",
    "    fig, ax = plt.subplots(1, 2, figsize=(10, 4))\n",
    "\n",
    "    # Left Graph: rectangle visualization\n",
    "    ax[0].plot([0, w, w, 0, 0], [0, 0, l, l, 0], 'b-', lw=2)\n",
    "    ax[0].set_xlim(0, 60)\n",
    "    ax[0].set_ylim(0, 60)\n",
    "    ax[0].set_aspect('equal', adjustable='box')\n",
    "    ax[0].set_title(f\"Rectangle: w={w:.1f}, l={l:.1f}\")\n",
    "    ax[0].set_xlabel(\"Width\")\n",
    "    ax[0].set_ylabel(\"Length\")\n",
    "    ax[0].grid(True)\n",
    "\n",
    "    # Right Graph: area function\n",
    "    ws = np.linspace(0, 50, 200)\n",
    "    As = ws * (50 - ws)\n",
    "    ax[1].plot(ws, As, label=r\"$A = w*l$\")\n",
    "    ax[1].axvline(w, color='r', linestyle='--', label=f\"w = {w:.1f}\")\n",
    "    ax[1].set_xlabel(\"Width\")\n",
    "    ax[1].set_ylabel(\"Area\")\n",
    "    ax[1].set_title(f\"Area = {A:.1f} m²\")\n",
    "    ax[1].legend()\n",
    "    ax[1].grid(True)\n",
    "\n",
    "    plt.tight_layout()\n",
    "    plt.show()\n",
    "\n",
    "# Interactive slider for x\n",
    "interact(rectangle_area, w=FloatSlider(value=10, min=0, max=50, step=0.5, description='Width'))\n"
   ]
  },
  {
   "cell_type": "code",
   "execution_count": 49,
   "id": "ae6f1cc3-26db-44fb-9895-4ad2286a6f02",
   "metadata": {},
   "outputs": [
    {
     "ename": "SyntaxError",
     "evalue": "invalid syntax (3005270474.py, line 9)",
     "output_type": "error",
     "traceback": [
      "\u001b[0;36m  Cell \u001b[0;32mIn[49], line 9\u001b[0;36m\u001b[0m\n\u001b[0;31m    f = ???\u001b[0m\n\u001b[0m        ^\u001b[0m\n\u001b[0;31mSyntaxError\u001b[0m\u001b[0;31m:\u001b[0m invalid syntax\n"
     ]
    }
   ],
   "source": [
    "#Let's say you forgot how to do this by hand.\n",
    "import sympy as sp\n",
    "import numpy as np\n",
    "\n",
    "# Define the input variable\n",
    "??? = sp.Symbol('???')\n",
    "\n",
    "# Define the function\n",
    "f = ???\n",
    "print(\"Function:\", f)\n",
    "\n",
    "# Take the derivative\n",
    "f_prime = sp.diff(f, ???)\n",
    "print(\"Derivative Function:\", f_prime)"
   ]
  },
  {
   "cell_type": "code",
   "execution_count": 50,
   "id": "f7d3dfbc-3402-4a32-91c8-0dbe9b64b25e",
   "metadata": {},
   "outputs": [
    {
     "ename": "SyntaxError",
     "evalue": "invalid syntax (3800015224.py, line 7)",
     "output_type": "error",
     "traceback": [
      "\u001b[0;36m  Cell \u001b[0;32mIn[50], line 7\u001b[0;36m\u001b[0m\n\u001b[0;31m    equation = Eq(???, 0)\u001b[0m\n\u001b[0m                  ^\u001b[0m\n\u001b[0;31mSyntaxError\u001b[0m\u001b[0;31m:\u001b[0m invalid syntax\n"
     ]
    }
   ],
   "source": [
    "from sympy import symbols, Eq, solve\n",
    "\n",
    "# define input variable\n",
    "??? = symbols('???')\n",
    "# set equation to solve\n",
    "#let's fill in the rest of this code together\n",
    "equation = Eq(???, 0) \n",
    "# ask python to solve\n",
    "solutions = solve(equation, w)\n",
    "# print solution\n",
    "print(solutions)"
   ]
  },
  {
   "cell_type": "code",
   "execution_count": 51,
   "id": "9f8e352c-0d2a-494c-89f1-b96f8900d481",
   "metadata": {},
   "outputs": [],
   "source": [
    "#find the length and compute the total area"
   ]
  }
 ],
 "metadata": {
  "kernelspec": {
   "display_name": "Python 3 (ipykernel)",
   "language": "python",
   "name": "python3"
  },
  "language_info": {
   "codemirror_mode": {
    "name": "ipython",
    "version": 3
   },
   "file_extension": ".py",
   "mimetype": "text/x-python",
   "name": "python",
   "nbconvert_exporter": "python",
   "pygments_lexer": "ipython3",
   "version": "3.9.6"
  }
 },
 "nbformat": 4,
 "nbformat_minor": 5
}
